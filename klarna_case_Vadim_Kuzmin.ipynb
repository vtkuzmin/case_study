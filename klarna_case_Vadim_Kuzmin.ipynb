{
 "cells": [
  {
   "cell_type": "code",
   "execution_count": 1,
   "metadata": {},
   "outputs": [],
   "source": [
    "import pandas as pd\n",
    "import numpy as np\n",
    "from catboost import CatBoostClassifier\n",
    "import matplotlib.pyplot as plt\n",
    "import seaborn as sns\n",
    "from sklearn.model_selection import train_test_split, StratifiedKFold\n",
    "from sklearn.metrics import f1_score, classification_report, roc_auc_score, confusion_matrix, fbeta_score\n",
    "from sklearn.preprocessing import PolynomialFeatures\n",
    "\n",
    "from lightgbm import LGBMClassifier"
   ]
  },
  {
   "cell_type": "code",
   "execution_count": 2,
   "metadata": {},
   "outputs": [],
   "source": [
    "dataset = pd.read_csv(\"dataset.csv\", sep=';')"
   ]
  },
  {
   "cell_type": "code",
   "execution_count": 3,
   "metadata": {},
   "outputs": [],
   "source": [
    "# dataset.dtypes"
   ]
  },
  {
   "cell_type": "code",
   "execution_count": 4,
   "metadata": {},
   "outputs": [
    {
     "data": {
      "text/plain": [
       "(99976, 43)"
      ]
     },
     "execution_count": 4,
     "metadata": {},
     "output_type": "execute_result"
    }
   ],
   "source": [
    "dataset.shape"
   ]
  },
  {
   "cell_type": "markdown",
   "metadata": {},
   "source": [
    "### Data exploration"
   ]
  },
  {
   "cell_type": "markdown",
   "metadata": {},
   "source": [
    "We have a strongly imbalanced classification, and the class of interest is very rare.\n",
    "The data has None values, but the modern algorithms can handle them effectively, so there is no need to decide how to fill them. Categorical values also can be given to the algorithms without encoding. Therefore, the data preprocessing was specific to the model and included just type conversion.\n",
    "\n",
    "As it is the imbalanced case, the most important part is to choose a metric to evaluate the model's performance. I will look at the classificartion report with such metrics as precision, recall and F1 score. Also the confusion matrix will help to undertsand how model make predictions. The final choice of the metrics depends on the business's needs and costs. For example, if we know what type of error costs more, we can optimize the model in the correct way. As the class of interest is rare, I would suggest that false negatives error costs more and will use F2-measure to select the best model (it has the effect of lowering the importance of precision and increase the importance of recall).\n",
    "Cross validation technique is used to evaluate the model (numbers of folds = 3). I was important to use Stratifyed methods to keep the correct class ratio. \n",
    "\n",
    "The model development was the following (the randon states are fixed everywhere to ensure the splits are the same):\n",
    "1. Fit LighGBM classifier without any feature engineering, specifying the parameters responsible for class weights (tried setting is_unbalance=True and class_weight='balanced'). Validation set is used to prevent overfitting and the best model on validation is used. Got the F1 score 0.168 and 0.172 respectively.\n",
    "2. Fit Catboost classifier without any feature engineering, specifying the parameters responsible for class weights. Validation set is used to prevent overfitting and the best model on validation is used. The F1 score was 0.116. I decided to use Catboost classifier as it is less tend to oveffit and I found its prediction behavour better than LightGBM classifier's\n",
    "3. Models based on the decision trees find it harder to catch up nonlinear dependences, so I tried to create polynomial features for numerical fearures without Nans and fitting Catboost classifier on them. The score was 0.107 and from the confusion matrix it was seen that the model tends to predict positive class more but the recall was not better. I decided not to use polynomial features. \n",
    "4. There is a technique for oversampling, SMOTE, to balance out the data. I had to fill the nan values and use the version of SMOTE supporting categoricalfeatures. After that I fit Catboost model on them but without specification of classes weight. The F1 score was 0.137, but from the report and the confusion matrix it was obvious that the behavoiur of the model is not what we expect, there were much less correctly found elements from positive class.\n",
    "5. The last step was tuning hyperparameters and I used hyperopt library (based on bayesian optimisation) to serach for the best params for Catboost model. \n",
    "\n",
    "As boosting models based on trees can perofrm feature selection, I didn't spend time on it.\n",
    "\n",
    "\n",
    "There are techniques to deal with such datasets, but the final conclusion is that if it is possible to collect more data, or more features, then it is the best way. "
   ]
  },
  {
   "cell_type": "code",
   "execution_count": 5,
   "metadata": {},
   "outputs": [
    {
     "data": {
      "text/plain": [
       "(99976, (99976, 43))"
      ]
     },
     "execution_count": 5,
     "metadata": {},
     "output_type": "execute_result"
    }
   ],
   "source": [
    "# Check that all uids are unique\n",
    "len(dataset.uuid.unique()), dataset.shape "
   ]
  },
  {
   "cell_type": "code",
   "execution_count": 6,
   "metadata": {},
   "outputs": [
    {
     "data": {
      "text/plain": [
       "0.0    88688\n",
       "NaN    10000\n",
       "1.0     1288\n",
       "Name: default, dtype: int64"
      ]
     },
     "execution_count": 6,
     "metadata": {},
     "output_type": "execute_result"
    }
   ],
   "source": [
    "# target distribution\n",
    "dataset.default.value_counts(dropna=False)"
   ]
  },
  {
   "cell_type": "code",
   "execution_count": 7,
   "metadata": {},
   "outputs": [
    {
     "name": "stdout",
     "output_type": "stream",
     "text": [
      "Fraction of positive elements: 1.45%\n"
     ]
    }
   ],
   "source": [
    "print(f'Fraction of positive elements: {round(1288/88688*100, 2)}%')"
   ]
  },
  {
   "cell_type": "code",
   "execution_count": 8,
   "metadata": {},
   "outputs": [],
   "source": [
    "cat_features = ['account_status', 'account_worst_status_0_3m', 'account_worst_status_12_24m', \n",
    "                'account_worst_status_3_6m', 'account_worst_status_6_12m', 'merchant_category', \n",
    "                'merchant_group', 'name_in_email', 'status_last_archived_0_24m', \n",
    "                'status_2nd_last_archived_0_24m', 'status_3rd_last_archived_0_24m', \n",
    "                'status_max_archived_0_6_months', 'status_max_archived_0_12_months', \n",
    "                'status_max_archived_0_24_months', 'worst_status_active_inv', 'has_paid']\n",
    "\n",
    "rest_features = ['account_amount_added_12_24m', 'account_days_in_dc_12_24m', 'account_days_in_rem_12_24m',\n",
    "                 'account_days_in_term_12_24m', 'account_incoming_debt_vs_paid_0_24m', 'age', \n",
    "                 'avg_payment_span_0_12m', 'avg_payment_span_0_3m', 'max_paid_inv_0_12m', 'max_paid_inv_0_24m',\n",
    "                 'num_active_div_by_paid_inv_0_12m', 'num_active_inv', 'num_arch_dc_0_12m', 'num_arch_dc_12_24m',\n",
    "                 'num_arch_ok_0_12m', 'num_arch_ok_12_24m', 'num_arch_rem_0_12m',\n",
    "                 'num_arch_written_off_0_12m', 'num_arch_written_off_12_24m', 'num_unpaid_bills',\n",
    "                 'recovery_debt', 'sum_capital_paid_account_0_12m', 'sum_capital_paid_account_12_24m',\n",
    "                 'sum_paid_inv_0_12m', 'time_hours']"
   ]
  },
  {
   "cell_type": "code",
   "execution_count": 9,
   "metadata": {},
   "outputs": [],
   "source": [
    "for cat_feature in cat_features:\n",
    "    dataset[cat_feature] = dataset[cat_feature].astype(str)\n",
    "for feature in rest_features:\n",
    "    dataset[feature] = dataset[feature].astype(float)"
   ]
  },
  {
   "cell_type": "code",
   "execution_count": 10,
   "metadata": {},
   "outputs": [
    {
     "data": {
      "text/plain": [
       "uuid                                       0\n",
       "default                                10000\n",
       "account_amount_added_12_24m                0\n",
       "account_days_in_dc_12_24m              11836\n",
       "account_days_in_rem_12_24m             11836\n",
       "account_days_in_term_12_24m            11836\n",
       "account_incoming_debt_vs_paid_0_24m    59315\n",
       "account_status                             0\n",
       "account_worst_status_0_3m                  0\n",
       "account_worst_status_12_24m                0\n",
       "account_worst_status_3_6m                  0\n",
       "account_worst_status_6_12m                 0\n",
       "age                                        0\n",
       "avg_payment_span_0_12m                 23836\n",
       "avg_payment_span_0_3m                  49305\n",
       "merchant_category                          0\n",
       "merchant_group                             0\n",
       "has_paid                                   0\n",
       "max_paid_inv_0_12m                         0\n",
       "max_paid_inv_0_24m                         0\n",
       "name_in_email                              0\n",
       "num_active_div_by_paid_inv_0_12m       22939\n",
       "num_active_inv                             0\n",
       "num_arch_dc_0_12m                          0\n",
       "num_arch_dc_12_24m                         0\n",
       "num_arch_ok_0_12m                          0\n",
       "num_arch_ok_12_24m                         0\n",
       "num_arch_rem_0_12m                         0\n",
       "num_arch_written_off_0_12m             18078\n",
       "num_arch_written_off_12_24m            18078\n",
       "num_unpaid_bills                           0\n",
       "status_last_archived_0_24m                 0\n",
       "status_2nd_last_archived_0_24m             0\n",
       "status_3rd_last_archived_0_24m             0\n",
       "status_max_archived_0_6_months             0\n",
       "status_max_archived_0_12_months            0\n",
       "status_max_archived_0_24_months            0\n",
       "recovery_debt                              0\n",
       "sum_capital_paid_account_0_12m             0\n",
       "sum_capital_paid_account_12_24m            0\n",
       "sum_paid_inv_0_12m                         0\n",
       "time_hours                                 0\n",
       "worst_status_active_inv                    0\n",
       "dtype: int64"
      ]
     },
     "execution_count": 10,
     "metadata": {},
     "output_type": "execute_result"
    }
   ],
   "source": [
    "dataset.isna().sum()"
   ]
  },
  {
   "cell_type": "code",
   "execution_count": 11,
   "metadata": {},
   "outputs": [
    {
     "data": {
      "image/png": "[encoded data removed]",
      "text/plain": [
       "<Figure size 864x720 with 2 Axes>"
      ]
     },
     "metadata": {
      "needs_background": "light"
     },
     "output_type": "display_data"
    }
   ],
   "source": [
    "plt.figure(figsize=(12,10))\n",
    "cor = dataset.drop(['uuid'], 1)[dataset.default.notnull()].corr()\n",
    "sns.heatmap(cor, annot=False, cmap=plt.cm.Reds)\n",
    "plt.show()"
   ]
  },
  {
   "cell_type": "markdown",
   "metadata": {},
   "source": [
    "From the correaltion heatmap we see that there is no any feature highly correlated with the target"
   ]
  },
  {
   "cell_type": "code",
   "execution_count": 12,
   "metadata": {},
   "outputs": [],
   "source": [
    "def stratified_cv(X, y, model, n=3):\n",
    "    kfold = StratifiedKFold(n_splits=n, shuffle=True, random_state=42)\n",
    "    y_preds = []\n",
    "    for train_ix, test_ix in kfold.split(X, y):\n",
    "        train_X, test_X = X.iloc[train_ix], X.iloc[test_ix]\n",
    "        train_y, test_y = y.iloc[train_ix], y.iloc[test_ix]\n",
    "        val_X, test_X, val_y, test_y = train_test_split(test_X, test_y, \n",
    "                                                        test_size=0.5, stratify=test_y, random_state=42)\n",
    "        if isinstance(model, LGBMClassifier):\n",
    "            model.fit(train_X, train_y,\n",
    "                      eval_set=(val_X, val_y),\n",
    "                      early_stopping_rounds=30,\n",
    "                      verbose=False)\n",
    "#             print(fbeta_score(model.predict(train_X), train_y, beta=2.))\n",
    "#             print(fbeta_score(model.predict(val_X), val_y, beta=2.))\n",
    "        elif isinstance(model, CatBoostClassifier):\n",
    "            model.fit(train_X, train_y,\n",
    "                      cat_features=cat_features,\n",
    "                      eval_set=(val_X, val_y),\n",
    "                      verbose=False)\n",
    "#             print(fbeta_score(model.predict(train_X), train_y, beta=2.))\n",
    "#             print(fbeta_score(model.predict(val_X), val_y, beta=2.))\n",
    "        else:\n",
    "            print(\"The wrong model\")\n",
    "            return None\n",
    "  \n",
    "        y_preds.append((model.predict(test_X), test_y))\n",
    "        \n",
    "    return y_preds"
   ]
  },
  {
   "cell_type": "markdown",
   "metadata": {},
   "source": [
    "## Catboost"
   ]
  },
  {
   "cell_type": "code",
   "execution_count": 13,
   "metadata": {},
   "outputs": [],
   "source": [
    "dataset1 = dataset.copy()"
   ]
  },
  {
   "cell_type": "code",
   "execution_count": 14,
   "metadata": {},
   "outputs": [],
   "source": [
    "inference_df = dataset1[dataset1.default.isnull()].copy()\n",
    "train_df = dataset1[dataset1.default.notnull()].copy()\n",
    "\n",
    "train_df['default'] = train_df['default'].astype(int)\n",
    "\n",
    "X = train_df.drop(['uuid', 'default'], 1)\n",
    "y = train_df.default"
   ]
  },
  {
   "cell_type": "code",
   "execution_count": 15,
   "metadata": {},
   "outputs": [],
   "source": [
    "class_weight = [0.015, 0.985]"
   ]
  },
  {
   "cell_type": "code",
   "execution_count": 16,
   "metadata": {
    "scrolled": true
   },
   "outputs": [],
   "source": [
    "model = CatBoostClassifier(iterations=500, class_weights=class_weight, \n",
    "                           early_stopping_rounds=60)\n",
    "y_preds_cb1 = stratified_cv(X, y, model)"
   ]
  },
  {
   "cell_type": "code",
   "execution_count": 17,
   "metadata": {},
   "outputs": [
    {
     "name": "stdout",
     "output_type": "stream",
     "text": [
      "0.07306602001042418\n"
     ]
    }
   ],
   "source": [
    "print(np.mean([fbeta_score(*t, beta=2.) for t in y_preds_cb1]))"
   ]
  },
  {
   "cell_type": "code",
   "execution_count": 18,
   "metadata": {
    "scrolled": true
   },
   "outputs": [
    {
     "name": "stdout",
     "output_type": "stream",
     "text": [
      "              precision    recall  f1-score   support\n",
      "\n",
      "           0       0.83      1.00      0.91     12318\n",
      "           1       0.82      0.07      0.12      2678\n",
      "\n",
      "    accuracy                           0.83     14996\n",
      "   macro avg       0.82      0.53      0.51     14996\n",
      "weighted avg       0.83      0.83      0.77     14996\n",
      "\n",
      "              precision    recall  f1-score   support\n",
      "\n",
      "           0       0.80      1.00      0.89     11931\n",
      "           1       0.79      0.06      0.10      3065\n",
      "\n",
      "    accuracy                           0.80     14996\n",
      "   macro avg       0.80      0.53      0.50     14996\n",
      "weighted avg       0.80      0.80      0.73     14996\n",
      "\n",
      "              precision    recall  f1-score   support\n",
      "\n",
      "           0       0.82      1.00      0.90     12160\n",
      "           1       0.77      0.06      0.11      2836\n",
      "\n",
      "    accuracy                           0.82     14996\n",
      "   macro avg       0.79      0.53      0.50     14996\n",
      "weighted avg       0.81      0.82      0.75     14996\n",
      "\n"
     ]
    }
   ],
   "source": [
    "for y_pred in y_preds_cb1:\n",
    "    print(classification_report(*y_pred))"
   ]
  },
  {
   "cell_type": "code",
   "execution_count": 19,
   "metadata": {},
   "outputs": [
    {
     "name": "stdout",
     "output_type": "stream",
     "text": [
      "[[12279    39]\n",
      " [ 2503   175]]\n",
      "[[11886    45]\n",
      " [ 2896   169]]\n",
      "[[12110    50]\n",
      " [ 2671   165]]\n"
     ]
    }
   ],
   "source": [
    "for y_pred in y_preds_cb1:\n",
    "    print(confusion_matrix(*y_pred))"
   ]
  },
  {
   "cell_type": "markdown",
   "metadata": {},
   "source": [
    "### LightGBM"
   ]
  },
  {
   "cell_type": "code",
   "execution_count": 20,
   "metadata": {},
   "outputs": [],
   "source": [
    "import warnings\n",
    "warnings.filterwarnings('ignore')"
   ]
  },
  {
   "cell_type": "code",
   "execution_count": 21,
   "metadata": {},
   "outputs": [],
   "source": [
    "dataset2 = dataset.copy()"
   ]
  },
  {
   "cell_type": "code",
   "execution_count": 22,
   "metadata": {},
   "outputs": [],
   "source": [
    "for cat_feature in cat_features:\n",
    "    dataset2[cat_feature] = dataset2[cat_feature].astype('category')"
   ]
  },
  {
   "cell_type": "code",
   "execution_count": 23,
   "metadata": {},
   "outputs": [],
   "source": [
    "inference_df = dataset2[dataset2.default.isnull()].copy()\n",
    "train_df = dataset2[dataset2.default.notnull()].copy()\n",
    "\n",
    "train_df['default'] = train_df['default'].astype(int)\n",
    "\n",
    "X = train_df.drop(['uuid', 'default'], 1)\n",
    "y = train_df.default"
   ]
  },
  {
   "cell_type": "code",
   "execution_count": 24,
   "metadata": {},
   "outputs": [],
   "source": [
    "model = LGBMClassifier(objective='binary', is_unbalance=True, is_training_metric=True)\n",
    "y_preds_lgbm1 = stratified_cv(X, y, model)"
   ]
  },
  {
   "cell_type": "code",
   "execution_count": 25,
   "metadata": {},
   "outputs": [
    {
     "name": "stdout",
     "output_type": "stream",
     "text": [
      "0.11291556515766754\n"
     ]
    }
   ],
   "source": [
    "print(np.mean([fbeta_score(*t, beta=2.) for t in y_preds_lgbm1]))"
   ]
  },
  {
   "cell_type": "code",
   "execution_count": 26,
   "metadata": {},
   "outputs": [
    {
     "name": "stdout",
     "output_type": "stream",
     "text": [
      "              precision    recall  f1-score   support\n",
      "\n",
      "           0       0.91      0.99      0.95     13602\n",
      "           1       0.56      0.09      0.15      1394\n",
      "\n",
      "    accuracy                           0.91     14996\n",
      "   macro avg       0.74      0.54      0.55     14996\n",
      "weighted avg       0.88      0.91      0.88     14996\n",
      "\n",
      "              precision    recall  f1-score   support\n",
      "\n",
      "           0       0.92      0.99      0.95     13655\n",
      "           1       0.60      0.10      0.17      1341\n",
      "\n",
      "    accuracy                           0.91     14996\n",
      "   macro avg       0.76      0.54      0.56     14996\n",
      "weighted avg       0.89      0.91      0.88     14996\n",
      "\n",
      "              precision    recall  f1-score   support\n",
      "\n",
      "           0       0.92      0.99      0.95     13627\n",
      "           1       0.63      0.10      0.17      1369\n",
      "\n",
      "    accuracy                           0.91     14996\n",
      "   macro avg       0.77      0.55      0.56     14996\n",
      "weighted avg       0.89      0.91      0.88     14996\n",
      "\n"
     ]
    }
   ],
   "source": [
    "for y_pred in y_preds_lgbm1:\n",
    "    print(classification_report(*y_pred))"
   ]
  },
  {
   "cell_type": "code",
   "execution_count": 27,
   "metadata": {},
   "outputs": [
    {
     "name": "stdout",
     "output_type": "stream",
     "text": [
      "[[13508    94]\n",
      " [ 1274   120]]\n",
      "[[13570    85]\n",
      " [ 1212   129]]\n",
      "[[13548    79]\n",
      " [ 1233   136]]\n"
     ]
    }
   ],
   "source": [
    "for y_pred in y_preds_lgbm1:\n",
    "    print(confusion_matrix(*y_pred))"
   ]
  },
  {
   "cell_type": "code",
   "execution_count": 28,
   "metadata": {},
   "outputs": [],
   "source": [
    "model = LGBMClassifier(objective='binary', class_weight='balanced')\n",
    "y_preds_lgbm2 = stratified_cv(X, y, model)"
   ]
  },
  {
   "cell_type": "code",
   "execution_count": 29,
   "metadata": {},
   "outputs": [
    {
     "data": {
      "text/plain": [
       "100"
      ]
     },
     "execution_count": 29,
     "metadata": {},
     "output_type": "execute_result"
    }
   ],
   "source": [
    "model.best_iteration_"
   ]
  },
  {
   "cell_type": "code",
   "execution_count": 30,
   "metadata": {},
   "outputs": [
    {
     "data": {
      "text/plain": [
       "{'boosting_type': 'gbdt',\n",
       " 'class_weight': 'balanced',\n",
       " 'colsample_bytree': 1.0,\n",
       " 'importance_type': 'split',\n",
       " 'learning_rate': 0.1,\n",
       " 'max_depth': -1,\n",
       " 'min_child_samples': 20,\n",
       " 'min_child_weight': 0.001,\n",
       " 'min_split_gain': 0.0,\n",
       " 'n_estimators': 100,\n",
       " 'n_jobs': -1,\n",
       " 'num_leaves': 31,\n",
       " 'objective': 'binary',\n",
       " 'random_state': None,\n",
       " 'reg_alpha': 0.0,\n",
       " 'reg_lambda': 0.0,\n",
       " 'silent': True,\n",
       " 'subsample': 1.0,\n",
       " 'subsample_for_bin': 200000,\n",
       " 'subsample_freq': 0}"
      ]
     },
     "execution_count": 30,
     "metadata": {},
     "output_type": "execute_result"
    }
   ],
   "source": [
    "model.get_params()"
   ]
  },
  {
   "cell_type": "code",
   "execution_count": 31,
   "metadata": {},
   "outputs": [
    {
     "name": "stdout",
     "output_type": "stream",
     "text": [
      "0.11780878457098952\n"
     ]
    }
   ],
   "source": [
    "print(np.mean([fbeta_score(*t, beta=2.) for t in y_preds_lgbm2]))"
   ]
  },
  {
   "cell_type": "code",
   "execution_count": 32,
   "metadata": {},
   "outputs": [
    {
     "name": "stdout",
     "output_type": "stream",
     "text": [
      "              precision    recall  f1-score   support\n",
      "\n",
      "           0       0.91      0.99      0.95     13498\n",
      "           1       0.63      0.09      0.16      1498\n",
      "\n",
      "    accuracy                           0.90     14996\n",
      "   macro avg       0.77      0.54      0.55     14996\n",
      "weighted avg       0.88      0.90      0.87     14996\n",
      "\n",
      "              precision    recall  f1-score   support\n",
      "\n",
      "           0       0.91      0.99      0.95     13563\n",
      "           1       0.64      0.10      0.17      1433\n",
      "\n",
      "    accuracy                           0.91     14996\n",
      "   macro avg       0.78      0.55      0.56     14996\n",
      "weighted avg       0.89      0.91      0.88     14996\n",
      "\n",
      "              precision    recall  f1-score   support\n",
      "\n",
      "           0       0.92      1.00      0.95     13601\n",
      "           1       0.70      0.11      0.19      1395\n",
      "\n",
      "    accuracy                           0.91     14996\n",
      "   macro avg       0.81      0.55      0.57     14996\n",
      "weighted avg       0.90      0.91      0.88     14996\n",
      "\n"
     ]
    }
   ],
   "source": [
    "for y_pred in y_preds_lgbm2:\n",
    "    print(classification_report(*y_pred))"
   ]
  },
  {
   "cell_type": "code",
   "execution_count": 31,
   "metadata": {},
   "outputs": [
    {
     "name": "stdout",
     "output_type": "stream",
     "text": [
      "[[13418    80]\n",
      " [ 1364   134]]\n",
      "[[13487    76]\n",
      " [ 1295   138]]\n",
      "[[13536    65]\n",
      " [ 1245   150]]\n"
     ]
    }
   ],
   "source": [
    "for y_pred in y_preds_lgbm2:\n",
    "    print(confusion_matrix(*y_pred))"
   ]
  },
  {
   "cell_type": "markdown",
   "metadata": {},
   "source": [
    "### Out of the box LightGBM Classifier has a better F2 score, I will stick with it for later experiments"
   ]
  },
  {
   "cell_type": "code",
   "execution_count": 32,
   "metadata": {},
   "outputs": [],
   "source": [
    "### Adding polynomial features \n",
    "X_num = X.select_dtypes(include='number')\n",
    "X_num_nnull = X_num[X_num.columns[~X_num.isnull().any()]]\n",
    "\n",
    "poly = PolynomialFeatures(degree=2, interaction_only=True)\n",
    "X_num_nnull_transf = poly.fit_transform(X_num_nnull)\n",
    "X_num_nnull_transf_df = pd.DataFrame(X_num_nnull_transf[:, 17:],\n",
    "                                     columns=poly.get_feature_names(X_num_nnull.columns)[17:])\n",
    "\n",
    "X_new = pd.concat([X, X_num_nnull_transf_df], 1)"
   ]
  },
  {
   "cell_type": "code",
   "execution_count": 33,
   "metadata": {},
   "outputs": [
    {
     "data": {
      "text/html": [
       "<div>\n",
       "<style scoped>\n",
       "    .dataframe tbody tr th:only-of-type {\n",
       "        vertical-align: middle;\n",
       "    }\n",
       "\n",
       "    .dataframe tbody tr th {\n",
       "        vertical-align: top;\n",
       "    }\n",
       "\n",
       "    .dataframe thead th {\n",
       "        text-align: right;\n",
       "    }\n",
       "</style>\n",
       "<table border=\"1\" class=\"dataframe\">\n",
       "  <thead>\n",
       "    <tr style=\"text-align: right;\">\n",
       "      <th></th>\n",
       "      <th>account_amount_added_12_24m</th>\n",
       "      <th>account_days_in_dc_12_24m</th>\n",
       "      <th>account_days_in_rem_12_24m</th>\n",
       "      <th>account_days_in_term_12_24m</th>\n",
       "      <th>account_incoming_debt_vs_paid_0_24m</th>\n",
       "      <th>account_status</th>\n",
       "      <th>account_worst_status_0_3m</th>\n",
       "      <th>account_worst_status_12_24m</th>\n",
       "      <th>account_worst_status_3_6m</th>\n",
       "      <th>account_worst_status_6_12m</th>\n",
       "      <th>...</th>\n",
       "      <th>recovery_debt sum_capital_paid_account_0_12m</th>\n",
       "      <th>recovery_debt sum_capital_paid_account_12_24m</th>\n",
       "      <th>recovery_debt sum_paid_inv_0_12m</th>\n",
       "      <th>recovery_debt time_hours</th>\n",
       "      <th>sum_capital_paid_account_0_12m sum_capital_paid_account_12_24m</th>\n",
       "      <th>sum_capital_paid_account_0_12m sum_paid_inv_0_12m</th>\n",
       "      <th>sum_capital_paid_account_0_12m time_hours</th>\n",
       "      <th>sum_capital_paid_account_12_24m sum_paid_inv_0_12m</th>\n",
       "      <th>sum_capital_paid_account_12_24m time_hours</th>\n",
       "      <th>sum_paid_inv_0_12m time_hours</th>\n",
       "    </tr>\n",
       "  </thead>\n",
       "  <tbody>\n",
       "    <tr>\n",
       "      <td>0</td>\n",
       "      <td>0</td>\n",
       "      <td>0.0</td>\n",
       "      <td>0.0</td>\n",
       "      <td>0.0</td>\n",
       "      <td>0.0</td>\n",
       "      <td>1.0</td>\n",
       "      <td>1.0</td>\n",
       "      <td>nan</td>\n",
       "      <td>1.0</td>\n",
       "      <td>nan</td>\n",
       "      <td>...</td>\n",
       "      <td>0.0</td>\n",
       "      <td>0.0</td>\n",
       "      <td>0.0</td>\n",
       "      <td>0.0</td>\n",
       "      <td>0.0</td>\n",
       "      <td>0.0</td>\n",
       "      <td>0.0</td>\n",
       "      <td>0.0</td>\n",
       "      <td>0.0</td>\n",
       "      <td>1.726392e+06</td>\n",
       "    </tr>\n",
       "    <tr>\n",
       "      <td>1</td>\n",
       "      <td>0</td>\n",
       "      <td>0.0</td>\n",
       "      <td>0.0</td>\n",
       "      <td>0.0</td>\n",
       "      <td>NaN</td>\n",
       "      <td>1.0</td>\n",
       "      <td>1.0</td>\n",
       "      <td>1.0</td>\n",
       "      <td>1.0</td>\n",
       "      <td>1.0</td>\n",
       "      <td>...</td>\n",
       "      <td>0.0</td>\n",
       "      <td>0.0</td>\n",
       "      <td>0.0</td>\n",
       "      <td>0.0</td>\n",
       "      <td>0.0</td>\n",
       "      <td>0.0</td>\n",
       "      <td>0.0</td>\n",
       "      <td>0.0</td>\n",
       "      <td>0.0</td>\n",
       "      <td>6.460726e+05</td>\n",
       "    </tr>\n",
       "    <tr>\n",
       "      <td>2</td>\n",
       "      <td>0</td>\n",
       "      <td>0.0</td>\n",
       "      <td>0.0</td>\n",
       "      <td>0.0</td>\n",
       "      <td>NaN</td>\n",
       "      <td>nan</td>\n",
       "      <td>nan</td>\n",
       "      <td>nan</td>\n",
       "      <td>nan</td>\n",
       "      <td>nan</td>\n",
       "      <td>...</td>\n",
       "      <td>0.0</td>\n",
       "      <td>0.0</td>\n",
       "      <td>0.0</td>\n",
       "      <td>0.0</td>\n",
       "      <td>0.0</td>\n",
       "      <td>0.0</td>\n",
       "      <td>0.0</td>\n",
       "      <td>0.0</td>\n",
       "      <td>0.0</td>\n",
       "      <td>1.443382e+06</td>\n",
       "    </tr>\n",
       "    <tr>\n",
       "      <td>3</td>\n",
       "      <td>0</td>\n",
       "      <td>NaN</td>\n",
       "      <td>NaN</td>\n",
       "      <td>NaN</td>\n",
       "      <td>NaN</td>\n",
       "      <td>nan</td>\n",
       "      <td>nan</td>\n",
       "      <td>nan</td>\n",
       "      <td>nan</td>\n",
       "      <td>nan</td>\n",
       "      <td>...</td>\n",
       "      <td>0.0</td>\n",
       "      <td>0.0</td>\n",
       "      <td>0.0</td>\n",
       "      <td>0.0</td>\n",
       "      <td>0.0</td>\n",
       "      <td>0.0</td>\n",
       "      <td>0.0</td>\n",
       "      <td>0.0</td>\n",
       "      <td>0.0</td>\n",
       "      <td>5.114008e+06</td>\n",
       "    </tr>\n",
       "    <tr>\n",
       "      <td>4</td>\n",
       "      <td>0</td>\n",
       "      <td>0.0</td>\n",
       "      <td>0.0</td>\n",
       "      <td>0.0</td>\n",
       "      <td>NaN</td>\n",
       "      <td>nan</td>\n",
       "      <td>nan</td>\n",
       "      <td>nan</td>\n",
       "      <td>nan</td>\n",
       "      <td>nan</td>\n",
       "      <td>...</td>\n",
       "      <td>0.0</td>\n",
       "      <td>0.0</td>\n",
       "      <td>0.0</td>\n",
       "      <td>0.0</td>\n",
       "      <td>0.0</td>\n",
       "      <td>0.0</td>\n",
       "      <td>0.0</td>\n",
       "      <td>0.0</td>\n",
       "      <td>0.0</td>\n",
       "      <td>9.016014e+04</td>\n",
       "    </tr>\n",
       "    <tr>\n",
       "      <td>...</td>\n",
       "      <td>...</td>\n",
       "      <td>...</td>\n",
       "      <td>...</td>\n",
       "      <td>...</td>\n",
       "      <td>...</td>\n",
       "      <td>...</td>\n",
       "      <td>...</td>\n",
       "      <td>...</td>\n",
       "      <td>...</td>\n",
       "      <td>...</td>\n",
       "      <td>...</td>\n",
       "      <td>...</td>\n",
       "      <td>...</td>\n",
       "      <td>...</td>\n",
       "      <td>...</td>\n",
       "      <td>...</td>\n",
       "      <td>...</td>\n",
       "      <td>...</td>\n",
       "      <td>...</td>\n",
       "      <td>...</td>\n",
       "      <td>...</td>\n",
       "    </tr>\n",
       "    <tr>\n",
       "      <td>89971</td>\n",
       "      <td>0</td>\n",
       "      <td>0.0</td>\n",
       "      <td>0.0</td>\n",
       "      <td>0.0</td>\n",
       "      <td>NaN</td>\n",
       "      <td>nan</td>\n",
       "      <td>nan</td>\n",
       "      <td>nan</td>\n",
       "      <td>nan</td>\n",
       "      <td>nan</td>\n",
       "      <td>...</td>\n",
       "      <td>0.0</td>\n",
       "      <td>0.0</td>\n",
       "      <td>0.0</td>\n",
       "      <td>0.0</td>\n",
       "      <td>0.0</td>\n",
       "      <td>0.0</td>\n",
       "      <td>0.0</td>\n",
       "      <td>0.0</td>\n",
       "      <td>0.0</td>\n",
       "      <td>0.000000e+00</td>\n",
       "    </tr>\n",
       "    <tr>\n",
       "      <td>89972</td>\n",
       "      <td>0</td>\n",
       "      <td>0.0</td>\n",
       "      <td>0.0</td>\n",
       "      <td>0.0</td>\n",
       "      <td>NaN</td>\n",
       "      <td>nan</td>\n",
       "      <td>nan</td>\n",
       "      <td>nan</td>\n",
       "      <td>nan</td>\n",
       "      <td>nan</td>\n",
       "      <td>...</td>\n",
       "      <td>0.0</td>\n",
       "      <td>0.0</td>\n",
       "      <td>0.0</td>\n",
       "      <td>0.0</td>\n",
       "      <td>0.0</td>\n",
       "      <td>0.0</td>\n",
       "      <td>0.0</td>\n",
       "      <td>0.0</td>\n",
       "      <td>0.0</td>\n",
       "      <td>7.741797e+04</td>\n",
       "    </tr>\n",
       "    <tr>\n",
       "      <td>89973</td>\n",
       "      <td>0</td>\n",
       "      <td>0.0</td>\n",
       "      <td>0.0</td>\n",
       "      <td>0.0</td>\n",
       "      <td>NaN</td>\n",
       "      <td>1.0</td>\n",
       "      <td>1.0</td>\n",
       "      <td>1.0</td>\n",
       "      <td>1.0</td>\n",
       "      <td>1.0</td>\n",
       "      <td>...</td>\n",
       "      <td>0.0</td>\n",
       "      <td>0.0</td>\n",
       "      <td>0.0</td>\n",
       "      <td>0.0</td>\n",
       "      <td>0.0</td>\n",
       "      <td>0.0</td>\n",
       "      <td>0.0</td>\n",
       "      <td>0.0</td>\n",
       "      <td>0.0</td>\n",
       "      <td>8.837681e+05</td>\n",
       "    </tr>\n",
       "    <tr>\n",
       "      <td>89974</td>\n",
       "      <td>0</td>\n",
       "      <td>0.0</td>\n",
       "      <td>0.0</td>\n",
       "      <td>0.0</td>\n",
       "      <td>NaN</td>\n",
       "      <td>nan</td>\n",
       "      <td>nan</td>\n",
       "      <td>nan</td>\n",
       "      <td>nan</td>\n",
       "      <td>nan</td>\n",
       "      <td>...</td>\n",
       "      <td>0.0</td>\n",
       "      <td>0.0</td>\n",
       "      <td>0.0</td>\n",
       "      <td>0.0</td>\n",
       "      <td>0.0</td>\n",
       "      <td>0.0</td>\n",
       "      <td>0.0</td>\n",
       "      <td>0.0</td>\n",
       "      <td>0.0</td>\n",
       "      <td>1.618789e+05</td>\n",
       "    </tr>\n",
       "    <tr>\n",
       "      <td>89975</td>\n",
       "      <td>0</td>\n",
       "      <td>NaN</td>\n",
       "      <td>NaN</td>\n",
       "      <td>NaN</td>\n",
       "      <td>NaN</td>\n",
       "      <td>nan</td>\n",
       "      <td>nan</td>\n",
       "      <td>nan</td>\n",
       "      <td>nan</td>\n",
       "      <td>nan</td>\n",
       "      <td>...</td>\n",
       "      <td>0.0</td>\n",
       "      <td>0.0</td>\n",
       "      <td>0.0</td>\n",
       "      <td>0.0</td>\n",
       "      <td>0.0</td>\n",
       "      <td>0.0</td>\n",
       "      <td>0.0</td>\n",
       "      <td>0.0</td>\n",
       "      <td>0.0</td>\n",
       "      <td>1.591663e+05</td>\n",
       "    </tr>\n",
       "  </tbody>\n",
       "</table>\n",
       "<p>89976 rows × 161 columns</p>\n",
       "</div>"
      ],
      "text/plain": [
       "       account_amount_added_12_24m  account_days_in_dc_12_24m  \\\n",
       "0                                0                        0.0   \n",
       "1                                0                        0.0   \n",
       "2                                0                        0.0   \n",
       "3                                0                        NaN   \n",
       "4                                0                        0.0   \n",
       "...                            ...                        ...   \n",
       "89971                            0                        0.0   \n",
       "89972                            0                        0.0   \n",
       "89973                            0                        0.0   \n",
       "89974                            0                        0.0   \n",
       "89975                            0                        NaN   \n",
       "\n",
       "       account_days_in_rem_12_24m  account_days_in_term_12_24m  \\\n",
       "0                             0.0                          0.0   \n",
       "1                             0.0                          0.0   \n",
       "2                             0.0                          0.0   \n",
       "3                             NaN                          NaN   \n",
       "4                             0.0                          0.0   \n",
       "...                           ...                          ...   \n",
       "89971                         0.0                          0.0   \n",
       "89972                         0.0                          0.0   \n",
       "89973                         0.0                          0.0   \n",
       "89974                         0.0                          0.0   \n",
       "89975                         NaN                          NaN   \n",
       "\n",
       "       account_incoming_debt_vs_paid_0_24m account_status  \\\n",
       "0                                      0.0            1.0   \n",
       "1                                      NaN            1.0   \n",
       "2                                      NaN            nan   \n",
       "3                                      NaN            nan   \n",
       "4                                      NaN            nan   \n",
       "...                                    ...            ...   \n",
       "89971                                  NaN            nan   \n",
       "89972                                  NaN            nan   \n",
       "89973                                  NaN            1.0   \n",
       "89974                                  NaN            nan   \n",
       "89975                                  NaN            nan   \n",
       "\n",
       "      account_worst_status_0_3m account_worst_status_12_24m  \\\n",
       "0                           1.0                         nan   \n",
       "1                           1.0                         1.0   \n",
       "2                           nan                         nan   \n",
       "3                           nan                         nan   \n",
       "4                           nan                         nan   \n",
       "...                         ...                         ...   \n",
       "89971                       nan                         nan   \n",
       "89972                       nan                         nan   \n",
       "89973                       1.0                         1.0   \n",
       "89974                       nan                         nan   \n",
       "89975                       nan                         nan   \n",
       "\n",
       "      account_worst_status_3_6m account_worst_status_6_12m  ...  \\\n",
       "0                           1.0                        nan  ...   \n",
       "1                           1.0                        1.0  ...   \n",
       "2                           nan                        nan  ...   \n",
       "3                           nan                        nan  ...   \n",
       "4                           nan                        nan  ...   \n",
       "...                         ...                        ...  ...   \n",
       "89971                       nan                        nan  ...   \n",
       "89972                       nan                        nan  ...   \n",
       "89973                       1.0                        1.0  ...   \n",
       "89974                       nan                        nan  ...   \n",
       "89975                       nan                        nan  ...   \n",
       "\n",
       "       recovery_debt sum_capital_paid_account_0_12m  \\\n",
       "0                                               0.0   \n",
       "1                                               0.0   \n",
       "2                                               0.0   \n",
       "3                                               0.0   \n",
       "4                                               0.0   \n",
       "...                                             ...   \n",
       "89971                                           0.0   \n",
       "89972                                           0.0   \n",
       "89973                                           0.0   \n",
       "89974                                           0.0   \n",
       "89975                                           0.0   \n",
       "\n",
       "       recovery_debt sum_capital_paid_account_12_24m  \\\n",
       "0                                                0.0   \n",
       "1                                                0.0   \n",
       "2                                                0.0   \n",
       "3                                                0.0   \n",
       "4                                                0.0   \n",
       "...                                              ...   \n",
       "89971                                            0.0   \n",
       "89972                                            0.0   \n",
       "89973                                            0.0   \n",
       "89974                                            0.0   \n",
       "89975                                            0.0   \n",
       "\n",
       "       recovery_debt sum_paid_inv_0_12m recovery_debt time_hours  \\\n",
       "0                                   0.0                      0.0   \n",
       "1                                   0.0                      0.0   \n",
       "2                                   0.0                      0.0   \n",
       "3                                   0.0                      0.0   \n",
       "4                                   0.0                      0.0   \n",
       "...                                 ...                      ...   \n",
       "89971                               0.0                      0.0   \n",
       "89972                               0.0                      0.0   \n",
       "89973                               0.0                      0.0   \n",
       "89974                               0.0                      0.0   \n",
       "89975                               0.0                      0.0   \n",
       "\n",
       "      sum_capital_paid_account_0_12m sum_capital_paid_account_12_24m  \\\n",
       "0                                                    0.0               \n",
       "1                                                    0.0               \n",
       "2                                                    0.0               \n",
       "3                                                    0.0               \n",
       "4                                                    0.0               \n",
       "...                                                  ...               \n",
       "89971                                                0.0               \n",
       "89972                                                0.0               \n",
       "89973                                                0.0               \n",
       "89974                                                0.0               \n",
       "89975                                                0.0               \n",
       "\n",
       "       sum_capital_paid_account_0_12m sum_paid_inv_0_12m  \\\n",
       "0                                                    0.0   \n",
       "1                                                    0.0   \n",
       "2                                                    0.0   \n",
       "3                                                    0.0   \n",
       "4                                                    0.0   \n",
       "...                                                  ...   \n",
       "89971                                                0.0   \n",
       "89972                                                0.0   \n",
       "89973                                                0.0   \n",
       "89974                                                0.0   \n",
       "89975                                                0.0   \n",
       "\n",
       "       sum_capital_paid_account_0_12m time_hours  \\\n",
       "0                                            0.0   \n",
       "1                                            0.0   \n",
       "2                                            0.0   \n",
       "3                                            0.0   \n",
       "4                                            0.0   \n",
       "...                                          ...   \n",
       "89971                                        0.0   \n",
       "89972                                        0.0   \n",
       "89973                                        0.0   \n",
       "89974                                        0.0   \n",
       "89975                                        0.0   \n",
       "\n",
       "       sum_capital_paid_account_12_24m sum_paid_inv_0_12m  \\\n",
       "0                                                    0.0    \n",
       "1                                                    0.0    \n",
       "2                                                    0.0    \n",
       "3                                                    0.0    \n",
       "4                                                    0.0    \n",
       "...                                                  ...    \n",
       "89971                                                0.0    \n",
       "89972                                                0.0    \n",
       "89973                                                0.0    \n",
       "89974                                                0.0    \n",
       "89975                                                0.0    \n",
       "\n",
       "      sum_capital_paid_account_12_24m time_hours  \\\n",
       "0                                            0.0   \n",
       "1                                            0.0   \n",
       "2                                            0.0   \n",
       "3                                            0.0   \n",
       "4                                            0.0   \n",
       "...                                          ...   \n",
       "89971                                        0.0   \n",
       "89972                                        0.0   \n",
       "89973                                        0.0   \n",
       "89974                                        0.0   \n",
       "89975                                        0.0   \n",
       "\n",
       "       sum_paid_inv_0_12m time_hours  \n",
       "0                       1.726392e+06  \n",
       "1                       6.460726e+05  \n",
       "2                       1.443382e+06  \n",
       "3                       5.114008e+06  \n",
       "4                       9.016014e+04  \n",
       "...                              ...  \n",
       "89971                   0.000000e+00  \n",
       "89972                   7.741797e+04  \n",
       "89973                   8.837681e+05  \n",
       "89974                   1.618789e+05  \n",
       "89975                   1.591663e+05  \n",
       "\n",
       "[89976 rows x 161 columns]"
      ]
     },
     "execution_count": 33,
     "metadata": {},
     "output_type": "execute_result"
    }
   ],
   "source": [
    "X_new"
   ]
  },
  {
   "cell_type": "code",
   "execution_count": 34,
   "metadata": {},
   "outputs": [
    {
     "name": "stdout",
     "output_type": "stream",
     "text": [
      "0.11639347443033558\n"
     ]
    }
   ],
   "source": [
    "model = LGBMClassifier(objective='binary', class_weight='balanced')\n",
    "y_preds_lgbm_poly = stratified_cv(X_new, y, model)\n",
    "print(np.mean([fbeta_score(*t, beta=2.) for t in y_preds_lgbm_poly]))"
   ]
  },
  {
   "cell_type": "code",
   "execution_count": 35,
   "metadata": {},
   "outputs": [
    {
     "name": "stdout",
     "output_type": "stream",
     "text": [
      "              precision    recall  f1-score   support\n",
      "\n",
      "           0       0.92      0.99      0.95     13662\n",
      "           1       0.62      0.10      0.17      1334\n",
      "\n",
      "    accuracy                           0.91     14996\n",
      "   macro avg       0.77      0.55      0.56     14996\n",
      "weighted avg       0.89      0.91      0.89     14996\n",
      "\n",
      "              precision    recall  f1-score   support\n",
      "\n",
      "           0       0.92      0.99      0.95     13667\n",
      "           1       0.57      0.09      0.16      1329\n",
      "\n",
      "    accuracy                           0.91     14996\n",
      "   macro avg       0.74      0.54      0.56     14996\n",
      "weighted avg       0.89      0.91      0.88     14996\n",
      "\n",
      "              precision    recall  f1-score   support\n",
      "\n",
      "           0       0.92      0.99      0.95     13643\n",
      "           1       0.63      0.10      0.17      1353\n",
      "\n",
      "    accuracy                           0.91     14996\n",
      "   macro avg       0.77      0.55      0.56     14996\n",
      "weighted avg       0.89      0.91      0.88     14996\n",
      "\n"
     ]
    }
   ],
   "source": [
    "for y_pred in y_preds_lgbm_poly:\n",
    "    print(classification_report(*y_pred))"
   ]
  },
  {
   "cell_type": "code",
   "execution_count": 36,
   "metadata": {},
   "outputs": [
    {
     "name": "stdout",
     "output_type": "stream",
     "text": [
      "[[13581    81]\n",
      " [ 1201   133]]\n",
      "[[13574    93]\n",
      " [ 1208   121]]\n",
      "[[13563    80]\n",
      " [ 1218   135]]\n"
     ]
    }
   ],
   "source": [
    "for y_pred in y_preds_lgbm_poly:\n",
    "    print(confusion_matrix(*y_pred))"
   ]
  },
  {
   "cell_type": "code",
   "execution_count": 37,
   "metadata": {},
   "outputs": [],
   "source": [
    "### SMOTE\n",
    "from imblearn.over_sampling import SMOTENC"
   ]
  },
  {
   "cell_type": "code",
   "execution_count": 38,
   "metadata": {},
   "outputs": [],
   "source": [
    "X_fill = X.copy()\n",
    "\n",
    "# for smote we need to do smth with nans\n",
    "for cat_feature in cat_features:\n",
    "    X_fill[cat_feature] = X_fill[cat_feature].cat.add_categories('Missing')\n",
    "    X_fill[cat_feature].fillna('Missing', inplace=True)\n",
    "    \n",
    "for f in ['account_days_in_dc_12_24m', 'account_days_in_rem_12_24m', 'account_days_in_term_12_24m',\n",
    "          'num_active_div_by_paid_inv_0_12m', 'num_arch_written_off_0_12m', 'num_arch_written_off_12_24m']:\n",
    "    X_fill[f].fillna(-1., inplace=True)\n",
    "\n",
    "for clm in ['account_incoming_debt_vs_paid_0_24m', 'avg_payment_span_0_12m', 'avg_payment_span_0_3m']:\n",
    "    X_fill[clm].fillna(X_fill[clm].mean(), inplace=True)"
   ]
  },
  {
   "cell_type": "code",
   "execution_count": 39,
   "metadata": {},
   "outputs": [],
   "source": [
    "# smote_nc = SMOTENC(categorical_features=cat_idx, random_state=42)\n",
    "# X_resampled, y_resampled = smote_nc.fit_resample(X_fill, y)"
   ]
  },
  {
   "cell_type": "code",
   "execution_count": 40,
   "metadata": {},
   "outputs": [],
   "source": [
    "def stratified_cv_smote(X, y, model, cat_features, n=3):\n",
    "    kfold = StratifiedKFold(n_splits=n, shuffle=True, random_state=42)\n",
    "    y_preds = []\n",
    "    cat_idx = [i for i in range(len(X.columns)) if X.columns[i] in cat_features]\n",
    "    smote_nc = SMOTENC(categorical_features=cat_idx, random_state=42)\n",
    "    for train_ix, test_ix in kfold.split(X, y):\n",
    "        train_X, test_X = X.iloc[train_ix], X.iloc[test_ix]\n",
    "        train_y, test_y = y.iloc[train_ix], y.iloc[test_ix]\n",
    "        val_X, test_X, val_y, test_y = train_test_split(test_X, test_y, \n",
    "                                                        test_size=0.5, stratify=test_y, random_state=42)\n",
    "\n",
    "        train_X, train_y = smote_nc.fit_resample(train_X, train_y)\n",
    "        if isinstance(model, LGBMClassifier):\n",
    "            model.fit(train_X, train_y,\n",
    "                      eval_set=(val_X, val_y),\n",
    "                      early_stopping_rounds=50,\n",
    "                      verbose=False)\n",
    "        elif isinstance(model, CatBoostClassifier):\n",
    "            model.fit(train_X, train_y,\n",
    "                      cat_features=cat_features,\n",
    "                      eval_set=(val_X, val_y),\n",
    "                      verbose=False)\n",
    "        else:\n",
    "            print(\"The wrong model\")\n",
    "            return None\n",
    "        y_preds.append((model.predict(test_X), test_y))\n",
    "        \n",
    "    return y_preds"
   ]
  },
  {
   "cell_type": "code",
   "execution_count": 41,
   "metadata": {},
   "outputs": [
    {
     "name": "stdout",
     "output_type": "stream",
     "text": [
      "0.10237113164412774\n"
     ]
    }
   ],
   "source": [
    "model = LGBMClassifier(objective='binary')\n",
    "y_preds_smote = stratified_cv_smote(X_fill, y, model, cat_features)\n",
    "print(np.mean([fbeta_score(*t, beta=2.) for t in y_preds_smote]))"
   ]
  },
  {
   "cell_type": "code",
   "execution_count": 42,
   "metadata": {},
   "outputs": [
    {
     "name": "stdout",
     "output_type": "stream",
     "text": [
      "              precision    recall  f1-score   support\n",
      "\n",
      "           0       0.95      0.99      0.97     14162\n",
      "           1       0.37      0.09      0.15       834\n",
      "\n",
      "    accuracy                           0.94     14996\n",
      "   macro avg       0.66      0.54      0.56     14996\n",
      "weighted avg       0.92      0.94      0.92     14996\n",
      "\n",
      "              precision    recall  f1-score   support\n",
      "\n",
      "           0       0.95      0.99      0.97     14135\n",
      "           1       0.34      0.08      0.13       861\n",
      "\n",
      "    accuracy                           0.94     14996\n",
      "   macro avg       0.64      0.54      0.55     14996\n",
      "weighted avg       0.91      0.94      0.92     14996\n",
      "\n",
      "              precision    recall  f1-score   support\n",
      "\n",
      "           0       0.95      0.99      0.97     14203\n",
      "           1       0.31      0.08      0.13       793\n",
      "\n",
      "    accuracy                           0.94     14996\n",
      "   macro avg       0.63      0.54      0.55     14996\n",
      "weighted avg       0.92      0.94      0.93     14996\n",
      "\n"
     ]
    }
   ],
   "source": [
    "for y_pred in y_preds_smote:\n",
    "    print(classification_report(*y_pred))"
   ]
  },
  {
   "cell_type": "code",
   "execution_count": 43,
   "metadata": {},
   "outputs": [
    {
     "name": "stdout",
     "output_type": "stream",
     "text": [
      "[[14027   135]\n",
      " [  755    79]]\n",
      "[[13993   142]\n",
      " [  789    72]]\n",
      "[[14054   149]\n",
      " [  727    66]]\n"
     ]
    }
   ],
   "source": [
    "for y_pred in y_preds_smote:\n",
    "    print(confusion_matrix(*y_pred))"
   ]
  },
  {
   "cell_type": "code",
   "execution_count": 44,
   "metadata": {},
   "outputs": [],
   "source": [
    "# false negatives is :math:`C_{1,0}`, false positives is :math:`C_{0,1}"
   ]
  },
  {
   "cell_type": "markdown",
   "metadata": {},
   "source": [
    "### LightGBM tuning with hyperopt"
   ]
  },
  {
   "cell_type": "code",
   "execution_count": 48,
   "metadata": {},
   "outputs": [],
   "source": [
    "import hyperopt\n",
    "from hyperopt import hp, fmin, tpe, STATUS_OK, Trials\n",
    "import colorama"
   ]
  },
  {
   "cell_type": "code",
   "execution_count": 49,
   "metadata": {},
   "outputs": [],
   "source": [
    "N_HYPEROPT_PROBES = 100\n",
    "HYPEROPT_ALGO = tpe.suggest\n",
    "colorama.init()\n",
    "\n",
    "# def get_lgbm_params(space):\n",
    "#     params = dict()\n",
    "#     params['learning_rate'] = space['learning_rate']\n",
    "#     params['depth'] = int(space['depth'])\n",
    "#     params['l2_leaf_reg'] = space['l2_leaf_reg']\n",
    "#     return params\n",
    "\n",
    "\n",
    "def get_lgbm_params(space):\n",
    "    params = dict()\n",
    "    params['max_depth'] = int(space['max_depth'])\n",
    "    params['num_leaves'] = int(space['num_leaves'])\n",
    "    params['learning_rate'] = space['learning_rate']\n",
    "    params['min_data_in_leaf'] = int(space['min_data_in_leaf'])\n",
    "    return params\n",
    "\n",
    "obj_call_count = 0\n",
    "cur_best_loss = 0.\n",
    "\n",
    "def objective(space):\n",
    "    global obj_call_count, cur_best_loss\n",
    "\n",
    "    obj_call_count += 1\n",
    "\n",
    "    print('\\nCatBoost objective call #{} cur_best_loss={:7.5f}'.format(obj_call_count, cur_best_loss))\n",
    "\n",
    "    params = get_lgbm_params(space)\n",
    "\n",
    "    sorted_params = sorted(space.items(), key=lambda z: z[0])\n",
    "    params_str = str.join(' ', ['{}={}'.format(k, v) for k, v in sorted_params])\n",
    "    print('Params: {}'.format(params_str) )\n",
    "\n",
    "#     model = CatBoostClassifier(iterations=500,\n",
    "#                                 class_weights=[0.015, 0.985],\n",
    "#                                 learning_rate=params['learning_rate'],\n",
    "#                                 depth=int(params['depth']),\n",
    "#                                 use_best_model=True,\n",
    "#                                 l2_leaf_reg=params['l2_leaf_reg'],\n",
    "#                                 early_stopping_rounds=70,\n",
    "#                                 od_type=\"Iter\",\n",
    "#                                 verbose=False\n",
    "#                                 )\n",
    "\n",
    "    model = LGBMClassifier(objective='binary',\n",
    "                           class_weight='balanced',\n",
    "                           max_depth = params['max_depth'],\n",
    "                           num_leaves = params['num_leaves'],\n",
    "                           learning_rate = params['learning_rate'],\n",
    "                           min_data_in_leaf = params['min_data_in_leaf'],\n",
    "                          )\n",
    "\n",
    "    y_preds = stratified_cv(X, y, model)\n",
    "    test_f2 = np.mean([fbeta_score(*t, beta=2.) for t in y_preds])\n",
    "\n",
    "    if test_f2 > cur_best_loss:\n",
    "        cur_best_loss = test_f2\n",
    "        print(colorama.Fore.GREEN + 'NEW BEST LOSS={}'.format(cur_best_loss) + colorama.Fore.RESET)\n",
    "\n",
    "    return{'loss': -test_f2, 'status': STATUS_OK }"
   ]
  },
  {
   "cell_type": "code",
   "execution_count": 50,
   "metadata": {
    "scrolled": true
   },
   "outputs": [
    {
     "name": "stdout",
     "output_type": "stream",
     "text": [
      "                                                       \n",
      "CatBoost objective call #1 cur_best_loss=0.00000\n",
      "Params: learning_rate=0.026276324070874928 max_depth=2.0 min_data_in_leaf=3.0 num_leaves=76.0\n",
      "[LightGBM] [Warning] min_data_in_leaf is set=3, min_child_samples=20 will be ignored. Current value: min_data_in_leaf=3\n",
      "[LightGBM] [Warning] min_data_in_leaf is set=3, min_child_samples=20 will be ignored. Current value: min_data_in_leaf=3\n",
      "[LightGBM] [Warning] min_data_in_leaf is set=3, min_child_samples=20 will be ignored. Current value: min_data_in_leaf=3\n",
      "NEW BEST LOSS=0.05683898606894783                      \n",
      "                                                                                   \n",
      "CatBoost objective call #2 cur_best_loss=0.05684\n",
      "Params: learning_rate=0.011454708162360943 max_depth=3.0 min_data_in_leaf=5.0 num_leaves=83.0\n",
      "[LightGBM] [Warning] min_data_in_leaf is set=5, min_child_samples=20 will be ignored. Current value: min_data_in_leaf=5\n",
      "[LightGBM] [Warning] min_data_in_leaf is set=5, min_child_samples=20 will be ignored. Current value: min_data_in_leaf=5\n",
      "[LightGBM] [Warning] min_data_in_leaf is set=5, min_child_samples=20 will be ignored. Current value: min_data_in_leaf=5\n",
      "                                                                                   \n",
      "CatBoost objective call #3 cur_best_loss=0.05684\n",
      "Params: learning_rate=0.07585605453850836 max_depth=3.0 min_data_in_leaf=109.0 num_leaves=35.0\n",
      "[LightGBM] [Warning] min_data_in_leaf is set=109, min_child_samples=20 will be ignored. Current value: min_data_in_leaf=109\n",
      "[LightGBM] [Warning] min_data_in_leaf is set=109, min_child_samples=20 will be ignored. Current value: min_data_in_leaf=109\n",
      "[LightGBM] [Warning] min_data_in_leaf is set=109, min_child_samples=20 will be ignored. Current value: min_data_in_leaf=109\n",
      "NEW BEST LOSS=0.07590262903010396                                                  \n",
      "                                                                                   \n",
      "CatBoost objective call #4 cur_best_loss=0.07590\n",
      "Params: learning_rate=0.018365287347654254 max_depth=5.0 min_data_in_leaf=9.0 num_leaves=92.0\n",
      "[LightGBM] [Warning] min_data_in_leaf is set=9, min_child_samples=20 will be ignored. Current value: min_data_in_leaf=9\n",
      "[LightGBM] [Warning] min_data_in_leaf is set=9, min_child_samples=20 will be ignored. Current value: min_data_in_leaf=9\n",
      "[LightGBM] [Warning] min_data_in_leaf is set=9, min_child_samples=20 will be ignored. Current value: min_data_in_leaf=9\n",
      "                                                                                   \n",
      "CatBoost objective call #5 cur_best_loss=0.07590\n",
      "Params: learning_rate=0.18625510650426436 max_depth=3.0 min_data_in_leaf=2.0 num_leaves=88.0\n",
      "[LightGBM] [Warning] min_data_in_leaf is set=2, min_child_samples=20 will be ignored. Current value: min_data_in_leaf=2\n",
      "[LightGBM] [Warning] min_data_in_leaf is set=2, min_child_samples=20 will be ignored. Current value: min_data_in_leaf=2\n",
      "[LightGBM] [Warning] min_data_in_leaf is set=2, min_child_samples=20 will be ignored. Current value: min_data_in_leaf=2\n",
      "NEW BEST LOSS=0.08707252221653498                                                  \n",
      "                                                                                   \n",
      "CatBoost objective call #6 cur_best_loss=0.08707\n",
      "Params: learning_rate=0.18449958680215303 max_depth=5.0 min_data_in_leaf=4.0 num_leaves=63.0\n",
      "[LightGBM] [Warning] min_data_in_leaf is set=4, min_child_samples=20 will be ignored. Current value: min_data_in_leaf=4\n",
      "[LightGBM] [Warning] min_data_in_leaf is set=4, min_child_samples=20 will be ignored. Current value: min_data_in_leaf=4\n",
      "[LightGBM] [Warning] min_data_in_leaf is set=4, min_child_samples=20 will be ignored. Current value: min_data_in_leaf=4\n",
      "NEW BEST LOSS=0.10443729018492794                                                  \n",
      "                                                                                   \n",
      "CatBoost objective call #7 cur_best_loss=0.10444\n",
      "Params: learning_rate=0.13498794274727924 max_depth=5.0 min_data_in_leaf=15.0 num_leaves=44.0\n",
      "[LightGBM] [Warning] min_data_in_leaf is set=15, min_child_samples=20 will be ignored. Current value: min_data_in_leaf=15\n",
      "[LightGBM] [Warning] min_data_in_leaf is set=15, min_child_samples=20 will be ignored. Current value: min_data_in_leaf=15\n",
      "[LightGBM] [Warning] min_data_in_leaf is set=15, min_child_samples=20 will be ignored. Current value: min_data_in_leaf=15\n",
      "                                                                                   \n",
      "CatBoost objective call #8 cur_best_loss=0.10444\n",
      "Params: learning_rate=0.03981366434789864 max_depth=5.0 min_data_in_leaf=3.0 num_leaves=31.0\n",
      "[LightGBM] [Warning] min_data_in_leaf is set=3, min_child_samples=20 will be ignored. Current value: min_data_in_leaf=3\n",
      "[LightGBM] [Warning] min_data_in_leaf is set=3, min_child_samples=20 will be ignored. Current value: min_data_in_leaf=3\n",
      "[LightGBM] [Warning] min_data_in_leaf is set=3, min_child_samples=20 will be ignored. Current value: min_data_in_leaf=3\n",
      "                                                                                   \n",
      "CatBoost objective call #9 cur_best_loss=0.10444\n",
      "Params: learning_rate=0.127542654606522 max_depth=5.0 min_data_in_leaf=294.0 num_leaves=94.0\n",
      "[LightGBM] [Warning] min_data_in_leaf is set=294, min_child_samples=20 will be ignored. Current value: min_data_in_leaf=294\n",
      "[LightGBM] [Warning] min_data_in_leaf is set=294, min_child_samples=20 will be ignored. Current value: min_data_in_leaf=294\n",
      "[LightGBM] [Warning] min_data_in_leaf is set=294, min_child_samples=20 will be ignored. Current value: min_data_in_leaf=294\n",
      "                                                                                   \n",
      "CatBoost objective call #10 cur_best_loss=0.10444\n",
      "Params: learning_rate=0.13228077152802298 max_depth=8.0 min_data_in_leaf=2.0 num_leaves=86.0\n",
      "[LightGBM] [Warning] min_data_in_leaf is set=2, min_child_samples=20 will be ignored. Current value: min_data_in_leaf=2\n",
      "[LightGBM] [Warning] min_data_in_leaf is set=2, min_child_samples=20 will be ignored. Current value: min_data_in_leaf=2\n",
      "[LightGBM] [Warning] min_data_in_leaf is set=2, min_child_samples=20 will be ignored. Current value: min_data_in_leaf=2\n",
      "NEW BEST LOSS=0.1349807439165903                                                   \n",
      "                                                                                   \n",
      "CatBoost objective call #11 cur_best_loss=0.13498\n",
      "Params: learning_rate=0.04360074339114645 max_depth=7.0 min_data_in_leaf=2.0 num_leaves=75.0\n",
      "[LightGBM] [Warning] min_data_in_leaf is set=2, min_child_samples=20 will be ignored. Current value: min_data_in_leaf=2\n",
      "[LightGBM] [Warning] min_data_in_leaf is set=2, min_child_samples=20 will be ignored. Current value: min_data_in_leaf=2\n",
      "[LightGBM] [Warning] min_data_in_leaf is set=2, min_child_samples=20 will be ignored. Current value: min_data_in_leaf=2\n",
      "                                                                                   \n",
      "CatBoost objective call #12 cur_best_loss=0.13498\n",
      "Params: learning_rate=0.04386209307438916 max_depth=6.0 min_data_in_leaf=31.0 num_leaves=92.0\n",
      "[LightGBM] [Warning] min_data_in_leaf is set=31, min_child_samples=20 will be ignored. Current value: min_data_in_leaf=31\n",
      "[LightGBM] [Warning] min_data_in_leaf is set=31, min_child_samples=20 will be ignored. Current value: min_data_in_leaf=31\n",
      "[LightGBM] [Warning] min_data_in_leaf is set=31, min_child_samples=20 will be ignored. Current value: min_data_in_leaf=31\n",
      "                                                                                   \n",
      "CatBoost objective call #13 cur_best_loss=0.13498\n",
      "Params: learning_rate=0.07025786359138722 max_depth=7.0 min_data_in_leaf=37.0 num_leaves=94.0\n",
      "[LightGBM] [Warning] min_data_in_leaf is set=37, min_child_samples=20 will be ignored. Current value: min_data_in_leaf=37\n",
      "[LightGBM] [Warning] min_data_in_leaf is set=37, min_child_samples=20 will be ignored. Current value: min_data_in_leaf=37\n",
      "[LightGBM] [Warning] min_data_in_leaf is set=37, min_child_samples=20 will be ignored. Current value: min_data_in_leaf=37\n",
      "                                                                                   \n",
      "CatBoost objective call #14 cur_best_loss=0.13498\n"
     ]
    },
    {
     "name": "stdout",
     "output_type": "stream",
     "text": [
      "Params: learning_rate=0.09940523109904727 max_depth=4.0 min_data_in_leaf=1.0 num_leaves=68.0\n",
      "[LightGBM] [Warning] min_data_in_leaf is set=1, min_child_samples=20 will be ignored. Current value: min_data_in_leaf=1\n",
      "[LightGBM] [Warning] min_data_in_leaf is set=1, min_child_samples=20 will be ignored. Current value: min_data_in_leaf=1\n",
      "[LightGBM] [Warning] min_data_in_leaf is set=1, min_child_samples=20 will be ignored. Current value: min_data_in_leaf=1\n",
      "                                                                                   \n",
      "CatBoost objective call #15 cur_best_loss=0.13498\n",
      "Params: learning_rate=0.0631589746960958 max_depth=6.0 min_data_in_leaf=10.0 num_leaves=39.0\n",
      "[LightGBM] [Warning] min_data_in_leaf is set=10, min_child_samples=20 will be ignored. Current value: min_data_in_leaf=10\n",
      "[LightGBM] [Warning] min_data_in_leaf is set=10, min_child_samples=20 will be ignored. Current value: min_data_in_leaf=10\n",
      "[LightGBM] [Warning] min_data_in_leaf is set=10, min_child_samples=20 will be ignored. Current value: min_data_in_leaf=10\n",
      "                                                                                   \n",
      "CatBoost objective call #16 cur_best_loss=0.13498\n",
      "Params: learning_rate=0.11040831635269137 max_depth=4.0 min_data_in_leaf=398.0 num_leaves=91.0\n",
      "[LightGBM] [Warning] min_data_in_leaf is set=398, min_child_samples=20 will be ignored. Current value: min_data_in_leaf=398\n",
      "[LightGBM] [Warning] min_data_in_leaf is set=398, min_child_samples=20 will be ignored. Current value: min_data_in_leaf=398\n",
      "[LightGBM] [Warning] min_data_in_leaf is set=398, min_child_samples=20 will be ignored. Current value: min_data_in_leaf=398\n",
      "                                                                                   \n",
      "CatBoost objective call #17 cur_best_loss=0.13498\n",
      "Params: learning_rate=0.12375623006838016 max_depth=6.0 min_data_in_leaf=231.0 num_leaves=27.0\n",
      "[LightGBM] [Warning] min_data_in_leaf is set=231, min_child_samples=20 will be ignored. Current value: min_data_in_leaf=231\n",
      "[LightGBM] [Warning] min_data_in_leaf is set=231, min_child_samples=20 will be ignored. Current value: min_data_in_leaf=231\n",
      "[LightGBM] [Warning] min_data_in_leaf is set=231, min_child_samples=20 will be ignored. Current value: min_data_in_leaf=231\n",
      "                                                                                   \n",
      "CatBoost objective call #18 cur_best_loss=0.13498\n",
      "Params: learning_rate=0.022295839803557673 max_depth=8.0 min_data_in_leaf=81.0 num_leaves=79.0\n",
      "[LightGBM] [Warning] min_data_in_leaf is set=81, min_child_samples=20 will be ignored. Current value: min_data_in_leaf=81\n",
      "[LightGBM] [Warning] min_data_in_leaf is set=81, min_child_samples=20 will be ignored. Current value: min_data_in_leaf=81\n",
      "[LightGBM] [Warning] min_data_in_leaf is set=81, min_child_samples=20 will be ignored. Current value: min_data_in_leaf=81\n",
      "                                                                                   \n",
      "CatBoost objective call #19 cur_best_loss=0.13498\n",
      "Params: learning_rate=0.07164837379276946 max_depth=6.0 min_data_in_leaf=353.0 num_leaves=91.0\n",
      "[LightGBM] [Warning] min_data_in_leaf is set=353, min_child_samples=20 will be ignored. Current value: min_data_in_leaf=353\n",
      "[LightGBM] [Warning] min_data_in_leaf is set=353, min_child_samples=20 will be ignored. Current value: min_data_in_leaf=353\n",
      "[LightGBM] [Warning] min_data_in_leaf is set=353, min_child_samples=20 will be ignored. Current value: min_data_in_leaf=353\n",
      "                                                                                   \n",
      "CatBoost objective call #20 cur_best_loss=0.13498\n",
      "Params: learning_rate=0.11050371546215175 max_depth=8.0 min_data_in_leaf=266.0 num_leaves=69.0\n",
      "[LightGBM] [Warning] min_data_in_leaf is set=266, min_child_samples=20 will be ignored. Current value: min_data_in_leaf=266\n",
      "[LightGBM] [Warning] min_data_in_leaf is set=266, min_child_samples=20 will be ignored. Current value: min_data_in_leaf=266\n",
      "[LightGBM] [Warning] min_data_in_leaf is set=266, min_child_samples=20 will be ignored. Current value: min_data_in_leaf=266\n",
      "                                                                                   \n",
      "CatBoost objective call #21 cur_best_loss=0.13498\n",
      "Params: learning_rate=0.18158817065401903 max_depth=9.0 min_data_in_leaf=131.0 num_leaves=51.0\n",
      "[LightGBM] [Warning] min_data_in_leaf is set=131, min_child_samples=20 will be ignored. Current value: min_data_in_leaf=131\n",
      "[LightGBM] [Warning] min_data_in_leaf is set=131, min_child_samples=20 will be ignored. Current value: min_data_in_leaf=131\n",
      "[LightGBM] [Warning] min_data_in_leaf is set=131, min_child_samples=20 will be ignored. Current value: min_data_in_leaf=131\n",
      "NEW BEST LOSS=0.15528192563298307                                                  \n",
      "                                                                                    \n",
      "CatBoost objective call #22 cur_best_loss=0.15528\n",
      "Params: learning_rate=0.18681726742179486 max_depth=9.0 min_data_in_leaf=107.0 num_leaves=53.0\n",
      "[LightGBM] [Warning] min_data_in_leaf is set=107, min_child_samples=20 will be ignored. Current value: min_data_in_leaf=107\n",
      "[LightGBM] [Warning] min_data_in_leaf is set=107, min_child_samples=20 will be ignored. Current value: min_data_in_leaf=107\n",
      "[LightGBM] [Warning] min_data_in_leaf is set=107, min_child_samples=20 will be ignored. Current value: min_data_in_leaf=107\n",
      "NEW BEST LOSS=0.1594311983254795                                                    \n",
      "                                                                                    \n",
      "CatBoost objective call #23 cur_best_loss=0.15943\n",
      "Params: learning_rate=0.19811896561758943 max_depth=9.0 min_data_in_leaf=122.0 num_leaves=51.0\n",
      "[LightGBM] [Warning] min_data_in_leaf is set=122, min_child_samples=20 will be ignored. Current value: min_data_in_leaf=122\n",
      "[LightGBM] [Warning] min_data_in_leaf is set=122, min_child_samples=20 will be ignored. Current value: min_data_in_leaf=122\n",
      "[LightGBM] [Warning] min_data_in_leaf is set=122, min_child_samples=20 will be ignored. Current value: min_data_in_leaf=122\n",
      "NEW BEST LOSS=0.16664708586032365                                                  \n",
      "                                                                                    \n",
      "CatBoost objective call #24 cur_best_loss=0.16665\n",
      "Params: learning_rate=0.010077490719482024 max_depth=9.0 min_data_in_leaf=48.0 num_leaves=53.0\n",
      "[LightGBM] [Warning] min_data_in_leaf is set=48, min_child_samples=20 will be ignored. Current value: min_data_in_leaf=48\n",
      "[LightGBM] [Warning] min_data_in_leaf is set=48, min_child_samples=20 will be ignored. Current value: min_data_in_leaf=48\n",
      "[LightGBM] [Warning] min_data_in_leaf is set=48, min_child_samples=20 will be ignored. Current value: min_data_in_leaf=48\n",
      "                                                                                    \n",
      "CatBoost objective call #25 cur_best_loss=0.16665\n",
      "Params: learning_rate=0.19983552739391627 max_depth=9.0 min_data_in_leaf=68.0 num_leaves=54.0\n",
      "[LightGBM] [Warning] min_data_in_leaf is set=68, min_child_samples=20 will be ignored. Current value: min_data_in_leaf=68\n",
      "[LightGBM] [Warning] min_data_in_leaf is set=68, min_child_samples=20 will be ignored. Current value: min_data_in_leaf=68\n",
      "[LightGBM] [Warning] min_data_in_leaf is set=68, min_child_samples=20 will be ignored. Current value: min_data_in_leaf=68\n",
      "NEW BEST LOSS=0.16948440848239146                                                   \n",
      "                                                                                    \n",
      "CatBoost objective call #26 cur_best_loss=0.16948\n",
      "Params: learning_rate=0.158513789554861 max_depth=7.0 min_data_in_leaf=55.0 num_leaves=47.0\n",
      "[LightGBM] [Warning] min_data_in_leaf is set=55, min_child_samples=20 will be ignored. Current value: min_data_in_leaf=55\n",
      "[LightGBM] [Warning] min_data_in_leaf is set=55, min_child_samples=20 will be ignored. Current value: min_data_in_leaf=55\n",
      "[LightGBM] [Warning] min_data_in_leaf is set=55, min_child_samples=20 will be ignored. Current value: min_data_in_leaf=55\n",
      "                                                                                    \n",
      "CatBoost objective call #27 cur_best_loss=0.16948\n"
     ]
    },
    {
     "name": "stdout",
     "output_type": "stream",
     "text": [
      "Params: learning_rate=0.05849124303814905 max_depth=8.0 min_data_in_leaf=177.0 num_leaves=62.0\n",
      "[LightGBM] [Warning] min_data_in_leaf is set=177, min_child_samples=20 will be ignored. Current value: min_data_in_leaf=177\n",
      "[LightGBM] [Warning] min_data_in_leaf is set=177, min_child_samples=20 will be ignored. Current value: min_data_in_leaf=177\n",
      "[LightGBM] [Warning] min_data_in_leaf is set=177, min_child_samples=20 will be ignored. Current value: min_data_in_leaf=177\n",
      "                                                                                    \n",
      "CatBoost objective call #28 cur_best_loss=0.16948\n",
      "Params: learning_rate=0.1599097417240258 max_depth=9.0 min_data_in_leaf=26.0 num_leaves=57.0\n",
      "[LightGBM] [Warning] min_data_in_leaf is set=26, min_child_samples=20 will be ignored. Current value: min_data_in_leaf=26\n",
      "[LightGBM] [Warning] min_data_in_leaf is set=26, min_child_samples=20 will be ignored. Current value: min_data_in_leaf=26\n",
      "[LightGBM] [Warning] min_data_in_leaf is set=26, min_child_samples=20 will be ignored. Current value: min_data_in_leaf=26\n",
      "                                                                                    \n",
      "CatBoost objective call #29 cur_best_loss=0.16948\n",
      "Params: learning_rate=0.08514571886875934 max_depth=8.0 min_data_in_leaf=61.0 num_leaves=42.0\n",
      "[LightGBM] [Warning] min_data_in_leaf is set=61, min_child_samples=20 will be ignored. Current value: min_data_in_leaf=61\n",
      "[LightGBM] [Warning] min_data_in_leaf is set=61, min_child_samples=20 will be ignored. Current value: min_data_in_leaf=61\n",
      "[LightGBM] [Warning] min_data_in_leaf is set=61, min_child_samples=20 will be ignored. Current value: min_data_in_leaf=61\n",
      "                                                                                    \n",
      "CatBoost objective call #30 cur_best_loss=0.16948\n",
      "Params: learning_rate=0.02894712154179329 max_depth=7.0 min_data_in_leaf=175.0 num_leaves=61.0\n",
      "[LightGBM] [Warning] min_data_in_leaf is set=175, min_child_samples=20 will be ignored. Current value: min_data_in_leaf=175\n",
      "[LightGBM] [Warning] min_data_in_leaf is set=175, min_child_samples=20 will be ignored. Current value: min_data_in_leaf=175\n",
      "[LightGBM] [Warning] min_data_in_leaf is set=175, min_child_samples=20 will be ignored. Current value: min_data_in_leaf=175\n",
      "                                                                                    \n",
      "CatBoost objective call #31 cur_best_loss=0.16948\n",
      "Params: learning_rate=0.015644575052356717 max_depth=2.0 min_data_in_leaf=21.0 num_leaves=71.0\n",
      "[LightGBM] [Warning] min_data_in_leaf is set=21, min_child_samples=20 will be ignored. Current value: min_data_in_leaf=21\n",
      "[LightGBM] [Warning] min_data_in_leaf is set=21, min_child_samples=20 will be ignored. Current value: min_data_in_leaf=21\n",
      "[LightGBM] [Warning] min_data_in_leaf is set=21, min_child_samples=20 will be ignored. Current value: min_data_in_leaf=21\n",
      "                                                                                    \n",
      "CatBoost objective call #32 cur_best_loss=0.16948\n",
      "Params: learning_rate=0.08780292686249401 max_depth=9.0 min_data_in_leaf=80.0 num_leaves=36.0\n",
      "[LightGBM] [Warning] min_data_in_leaf is set=80, min_child_samples=20 will be ignored. Current value: min_data_in_leaf=80\n",
      "[LightGBM] [Warning] min_data_in_leaf is set=80, min_child_samples=20 will be ignored. Current value: min_data_in_leaf=80\n",
      "[LightGBM] [Warning] min_data_in_leaf is set=80, min_child_samples=20 will be ignored. Current value: min_data_in_leaf=80\n",
      "                                                                                    \n",
      "CatBoost objective call #33 cur_best_loss=0.16948\n",
      "Params: learning_rate=0.03346088718318848 max_depth=8.0 min_data_in_leaf=14.0 num_leaves=25.0\n",
      "[LightGBM] [Warning] min_data_in_leaf is set=14, min_child_samples=20 will be ignored. Current value: min_data_in_leaf=14\n",
      "[LightGBM] [Warning] min_data_in_leaf is set=14, min_child_samples=20 will be ignored. Current value: min_data_in_leaf=14\n",
      "[LightGBM] [Warning] min_data_in_leaf is set=14, min_child_samples=20 will be ignored. Current value: min_data_in_leaf=14\n",
      "                                                                                    \n",
      "CatBoost objective call #34 cur_best_loss=0.16948\n",
      "Params: learning_rate=0.05706408726584128 max_depth=9.0 min_data_in_leaf=149.0 num_leaves=48.0\n",
      "[LightGBM] [Warning] min_data_in_leaf is set=149, min_child_samples=20 will be ignored. Current value: min_data_in_leaf=149\n",
      "[LightGBM] [Warning] min_data_in_leaf is set=149, min_child_samples=20 will be ignored. Current value: min_data_in_leaf=149\n",
      "[LightGBM] [Warning] min_data_in_leaf is set=149, min_child_samples=20 will be ignored. Current value: min_data_in_leaf=149\n",
      "                                                                                    \n",
      "CatBoost objective call #35 cur_best_loss=0.16948\n",
      "Params: learning_rate=0.012402094297118095 max_depth=7.0 min_data_in_leaf=7.0 num_leaves=58.0\n",
      "[LightGBM] [Warning] min_data_in_leaf is set=7, min_child_samples=20 will be ignored. Current value: min_data_in_leaf=7\n",
      "[LightGBM] [Warning] min_data_in_leaf is set=7, min_child_samples=20 will be ignored. Current value: min_data_in_leaf=7\n",
      "[LightGBM] [Warning] min_data_in_leaf is set=7, min_child_samples=20 will be ignored. Current value: min_data_in_leaf=7\n",
      "                                                                                    \n",
      "CatBoost objective call #36 cur_best_loss=0.16948\n",
      "Params: learning_rate=0.09183498243476179 max_depth=4.0 min_data_in_leaf=41.0 num_leaves=66.0\n",
      "[LightGBM] [Warning] min_data_in_leaf is set=41, min_child_samples=20 will be ignored. Current value: min_data_in_leaf=41\n",
      "[LightGBM] [Warning] min_data_in_leaf is set=41, min_child_samples=20 will be ignored. Current value: min_data_in_leaf=41\n",
      "[LightGBM] [Warning] min_data_in_leaf is set=41, min_child_samples=20 will be ignored. Current value: min_data_in_leaf=41\n",
      "                                                                                    \n",
      "CatBoost objective call #37 cur_best_loss=0.16948\n",
      "Params: learning_rate=0.1538607558482723 max_depth=2.0 min_data_in_leaf=86.0 num_leaves=33.0\n",
      "[LightGBM] [Warning] min_data_in_leaf is set=86, min_child_samples=20 will be ignored. Current value: min_data_in_leaf=86\n",
      "[LightGBM] [Warning] min_data_in_leaf is set=86, min_child_samples=20 will be ignored. Current value: min_data_in_leaf=86\n",
      "[LightGBM] [Warning] min_data_in_leaf is set=86, min_child_samples=20 will be ignored. Current value: min_data_in_leaf=86\n",
      "                                                                                    \n",
      "CatBoost objective call #38 cur_best_loss=0.16948\n",
      "Params: learning_rate=0.1965754665021694 max_depth=3.0 min_data_in_leaf=19.0 num_leaves=99.0\n",
      "[LightGBM] [Warning] min_data_in_leaf is set=19, min_child_samples=20 will be ignored. Current value: min_data_in_leaf=19\n",
      "[LightGBM] [Warning] min_data_in_leaf is set=19, min_child_samples=20 will be ignored. Current value: min_data_in_leaf=19\n",
      "[LightGBM] [Warning] min_data_in_leaf is set=19, min_child_samples=20 will be ignored. Current value: min_data_in_leaf=19\n",
      "                                                                                    \n",
      "CatBoost objective call #39 cur_best_loss=0.16948\n",
      "Params: learning_rate=0.05339761115248959 max_depth=8.0 min_data_in_leaf=206.0 num_leaves=74.0\n",
      "[LightGBM] [Warning] min_data_in_leaf is set=206, min_child_samples=20 will be ignored. Current value: min_data_in_leaf=206\n",
      "[LightGBM] [Warning] min_data_in_leaf is set=206, min_child_samples=20 will be ignored. Current value: min_data_in_leaf=206\n",
      "[LightGBM] [Warning] min_data_in_leaf is set=206, min_child_samples=20 will be ignored. Current value: min_data_in_leaf=206\n",
      "                                                                                    \n",
      "CatBoost objective call #40 cur_best_loss=0.16948\n",
      "Params: learning_rate=0.1475868009757512 max_depth=9.0 min_data_in_leaf=119.0 num_leaves=79.0\n",
      "[LightGBM] [Warning] min_data_in_leaf is set=119, min_child_samples=20 will be ignored. Current value: min_data_in_leaf=119\n",
      "[LightGBM] [Warning] min_data_in_leaf is set=119, min_child_samples=20 will be ignored. Current value: min_data_in_leaf=119\n"
     ]
    },
    {
     "name": "stdout",
     "output_type": "stream",
     "text": [
      "[LightGBM] [Warning] min_data_in_leaf is set=119, min_child_samples=20 will be ignored. Current value: min_data_in_leaf=119\n",
      "                                                                                    \n",
      "CatBoost objective call #41 cur_best_loss=0.16948\n",
      "Params: learning_rate=0.19998888580647872 max_depth=7.0 min_data_in_leaf=66.0 num_leaves=42.0\n",
      "[LightGBM] [Warning] min_data_in_leaf is set=66, min_child_samples=20 will be ignored. Current value: min_data_in_leaf=66\n",
      "[LightGBM] [Warning] min_data_in_leaf is set=66, min_child_samples=20 will be ignored. Current value: min_data_in_leaf=66\n",
      "[LightGBM] [Warning] min_data_in_leaf is set=66, min_child_samples=20 will be ignored. Current value: min_data_in_leaf=66\n",
      "                                                                                    \n",
      "CatBoost objective call #42 cur_best_loss=0.16948\n",
      "Params: learning_rate=0.04944360586645584 max_depth=8.0 min_data_in_leaf=31.0 num_leaves=57.0\n",
      "[LightGBM] [Warning] min_data_in_leaf is set=31, min_child_samples=20 will be ignored. Current value: min_data_in_leaf=31\n",
      "[LightGBM] [Warning] min_data_in_leaf is set=31, min_child_samples=20 will be ignored. Current value: min_data_in_leaf=31\n",
      "[LightGBM] [Warning] min_data_in_leaf is set=31, min_child_samples=20 will be ignored. Current value: min_data_in_leaf=31\n",
      "                                                                                    \n",
      "CatBoost objective call #43 cur_best_loss=0.16948\n",
      "Params: learning_rate=0.11309556231094481 max_depth=9.0 min_data_in_leaf=323.0 num_leaves=38.0\n",
      "[LightGBM] [Warning] min_data_in_leaf is set=323, min_child_samples=20 will be ignored. Current value: min_data_in_leaf=323\n",
      "[LightGBM] [Warning] min_data_in_leaf is set=323, min_child_samples=20 will be ignored. Current value: min_data_in_leaf=323\n",
      "[LightGBM] [Warning] min_data_in_leaf is set=323, min_child_samples=20 will be ignored. Current value: min_data_in_leaf=323\n",
      "                                                                                    \n",
      "CatBoost objective call #44 cur_best_loss=0.16948\n",
      "Params: learning_rate=0.035620682032235965 max_depth=7.0 min_data_in_leaf=13.0 num_leaves=49.0\n",
      "[LightGBM] [Warning] min_data_in_leaf is set=13, min_child_samples=20 will be ignored. Current value: min_data_in_leaf=13\n",
      "[LightGBM] [Warning] min_data_in_leaf is set=13, min_child_samples=20 will be ignored. Current value: min_data_in_leaf=13\n",
      "[LightGBM] [Warning] min_data_in_leaf is set=13, min_child_samples=20 will be ignored. Current value: min_data_in_leaf=13\n",
      "                                                                                    \n",
      "CatBoost objective call #45 cur_best_loss=0.16948\n",
      "Params: learning_rate=0.07625781008166678 max_depth=3.0 min_data_in_leaf=101.0 num_leaves=45.0\n",
      "[LightGBM] [Warning] min_data_in_leaf is set=101, min_child_samples=20 will be ignored. Current value: min_data_in_leaf=101\n",
      "[LightGBM] [Warning] min_data_in_leaf is set=101, min_child_samples=20 will be ignored. Current value: min_data_in_leaf=101\n",
      "[LightGBM] [Warning] min_data_in_leaf is set=101, min_child_samples=20 will be ignored. Current value: min_data_in_leaf=101\n",
      "                                                                                    \n",
      "CatBoost objective call #46 cur_best_loss=0.16948\n",
      "Params: learning_rate=0.023492850233708194 max_depth=5.0 min_data_in_leaf=23.0 num_leaves=28.0\n",
      "[LightGBM] [Warning] min_data_in_leaf is set=23, min_child_samples=20 will be ignored. Current value: min_data_in_leaf=23\n",
      "[LightGBM] [Warning] min_data_in_leaf is set=23, min_child_samples=20 will be ignored. Current value: min_data_in_leaf=23\n",
      "[LightGBM] [Warning] min_data_in_leaf is set=23, min_child_samples=20 will be ignored. Current value: min_data_in_leaf=23\n",
      "                                                                                    \n",
      "CatBoost objective call #47 cur_best_loss=0.16948\n",
      "Params: learning_rate=0.017284223760872977 max_depth=6.0 min_data_in_leaf=5.0 num_leaves=65.0\n",
      "[LightGBM] [Warning] min_data_in_leaf is set=5, min_child_samples=20 will be ignored. Current value: min_data_in_leaf=5\n",
      "[LightGBM] [Warning] min_data_in_leaf is set=5, min_child_samples=20 will be ignored. Current value: min_data_in_leaf=5\n",
      "[LightGBM] [Warning] min_data_in_leaf is set=5, min_child_samples=20 will be ignored. Current value: min_data_in_leaf=5\n",
      "                                                                                    \n",
      "CatBoost objective call #48 cur_best_loss=0.16948\n",
      "Params: learning_rate=0.13550420947012462 max_depth=8.0 min_data_in_leaf=399.0 num_leaves=54.0\n",
      "[LightGBM] [Warning] min_data_in_leaf is set=399, min_child_samples=20 will be ignored. Current value: min_data_in_leaf=399\n",
      "[LightGBM] [Warning] min_data_in_leaf is set=399, min_child_samples=20 will be ignored. Current value: min_data_in_leaf=399\n",
      "[LightGBM] [Warning] min_data_in_leaf is set=399, min_child_samples=20 will be ignored. Current value: min_data_in_leaf=399\n",
      "                                                                                    \n",
      "CatBoost objective call #49 cur_best_loss=0.16948\n",
      "Params: learning_rate=0.1729710635829402 max_depth=4.0 min_data_in_leaf=1.0 num_leaves=60.0\n",
      "[LightGBM] [Warning] min_data_in_leaf is set=1, min_child_samples=20 will be ignored. Current value: min_data_in_leaf=1\n",
      "[LightGBM] [Warning] min_data_in_leaf is set=1, min_child_samples=20 will be ignored. Current value: min_data_in_leaf=1\n",
      "[LightGBM] [Warning] min_data_in_leaf is set=1, min_child_samples=20 will be ignored. Current value: min_data_in_leaf=1\n",
      "                                                                                    \n",
      "CatBoost objective call #50 cur_best_loss=0.16948\n",
      "Params: learning_rate=0.09799135957782246 max_depth=5.0 min_data_in_leaf=8.0 num_leaves=33.0\n",
      "[LightGBM] [Warning] min_data_in_leaf is set=8, min_child_samples=20 will be ignored. Current value: min_data_in_leaf=8\n",
      "[LightGBM] [Warning] min_data_in_leaf is set=8, min_child_samples=20 will be ignored. Current value: min_data_in_leaf=8\n",
      "[LightGBM] [Warning] min_data_in_leaf is set=8, min_child_samples=20 will be ignored. Current value: min_data_in_leaf=8\n",
      "                                                                                    \n",
      "CatBoost objective call #51 cur_best_loss=0.16948\n",
      "Params: learning_rate=0.07985097683950063 max_depth=9.0 min_data_in_leaf=38.0 num_leaves=83.0\n",
      "[LightGBM] [Warning] min_data_in_leaf is set=38, min_child_samples=20 will be ignored. Current value: min_data_in_leaf=38\n",
      "[LightGBM] [Warning] min_data_in_leaf is set=38, min_child_samples=20 will be ignored. Current value: min_data_in_leaf=38\n",
      "[LightGBM] [Warning] min_data_in_leaf is set=38, min_child_samples=20 will be ignored. Current value: min_data_in_leaf=38\n",
      "                                                                                    \n",
      "CatBoost objective call #52 cur_best_loss=0.16948\n",
      "Params: learning_rate=0.06750248507544278 max_depth=6.0 min_data_in_leaf=238.0 num_leaves=40.0\n",
      "[LightGBM] [Warning] min_data_in_leaf is set=238, min_child_samples=20 will be ignored. Current value: min_data_in_leaf=238\n",
      "[LightGBM] [Warning] min_data_in_leaf is set=238, min_child_samples=20 will be ignored. Current value: min_data_in_leaf=238\n",
      "[LightGBM] [Warning] min_data_in_leaf is set=238, min_child_samples=20 will be ignored. Current value: min_data_in_leaf=238\n",
      "                                                                                    \n",
      "CatBoost objective call #53 cur_best_loss=0.16948\n",
      "Params: learning_rate=0.12983866718577422 max_depth=7.0 min_data_in_leaf=157.0 num_leaves=44.0\n",
      "[LightGBM] [Warning] min_data_in_leaf is set=157, min_child_samples=20 will be ignored. Current value: min_data_in_leaf=157\n",
      "[LightGBM] [Warning] min_data_in_leaf is set=157, min_child_samples=20 will be ignored. Current value: min_data_in_leaf=157\n",
      "[LightGBM] [Warning] min_data_in_leaf is set=157, min_child_samples=20 will be ignored. Current value: min_data_in_leaf=157\n",
      "                                                                                    \n",
      "CatBoost objective call #54 cur_best_loss=0.16948\n",
      "Params: learning_rate=0.013420285525121282 max_depth=8.0 min_data_in_leaf=3.0 num_leaves=72.0\n"
     ]
    },
    {
     "name": "stdout",
     "output_type": "stream",
     "text": [
      "[LightGBM] [Warning] min_data_in_leaf is set=3, min_child_samples=20 will be ignored. Current value: min_data_in_leaf=3\n",
      "[LightGBM] [Warning] min_data_in_leaf is set=3, min_child_samples=20 will be ignored. Current value: min_data_in_leaf=3\n",
      "[LightGBM] [Warning] min_data_in_leaf is set=3, min_child_samples=20 will be ignored. Current value: min_data_in_leaf=3\n",
      "                                                                                    \n",
      "CatBoost objective call #55 cur_best_loss=0.16948\n",
      "Params: learning_rate=0.04126990488890307 max_depth=9.0 min_data_in_leaf=11.0 num_leaves=51.0\n",
      "[LightGBM] [Warning] min_data_in_leaf is set=11, min_child_samples=20 will be ignored. Current value: min_data_in_leaf=11\n",
      "[LightGBM] [Warning] min_data_in_leaf is set=11, min_child_samples=20 will be ignored. Current value: min_data_in_leaf=11\n",
      "[LightGBM] [Warning] min_data_in_leaf is set=11, min_child_samples=20 will be ignored. Current value: min_data_in_leaf=11\n",
      "                                                                                    \n",
      "CatBoost objective call #56 cur_best_loss=0.16948\n",
      "Params: learning_rate=0.17255452598807178 max_depth=6.0 min_data_in_leaf=46.0 num_leaves=78.0\n",
      "[LightGBM] [Warning] min_data_in_leaf is set=46, min_child_samples=20 will be ignored. Current value: min_data_in_leaf=46\n",
      "[LightGBM] [Warning] min_data_in_leaf is set=46, min_child_samples=20 will be ignored. Current value: min_data_in_leaf=46\n",
      "[LightGBM] [Warning] min_data_in_leaf is set=46, min_child_samples=20 will be ignored. Current value: min_data_in_leaf=46\n",
      "                                                                                    \n",
      "CatBoost objective call #57 cur_best_loss=0.16948\n",
      "Params: learning_rate=0.11987691723507132 max_depth=5.0 min_data_in_leaf=29.0 num_leaves=64.0\n",
      "[LightGBM] [Warning] min_data_in_leaf is set=29, min_child_samples=20 will be ignored. Current value: min_data_in_leaf=29\n",
      "[LightGBM] [Warning] min_data_in_leaf is set=29, min_child_samples=20 will be ignored. Current value: min_data_in_leaf=29\n",
      "[LightGBM] [Warning] min_data_in_leaf is set=29, min_child_samples=20 will be ignored. Current value: min_data_in_leaf=29\n",
      "                                                                                    \n",
      "CatBoost objective call #58 cur_best_loss=0.16948\n",
      "Params: learning_rate=0.10402107041402431 max_depth=8.0 min_data_in_leaf=78.0 num_leaves=30.0\n",
      "[LightGBM] [Warning] min_data_in_leaf is set=78, min_child_samples=20 will be ignored. Current value: min_data_in_leaf=78\n",
      "[LightGBM] [Warning] min_data_in_leaf is set=78, min_child_samples=20 will be ignored. Current value: min_data_in_leaf=78\n",
      "[LightGBM] [Warning] min_data_in_leaf is set=78, min_child_samples=20 will be ignored. Current value: min_data_in_leaf=78\n",
      "                                                                                    \n",
      "CatBoost objective call #59 cur_best_loss=0.16948\n",
      "Params: learning_rate=0.047925458799544775 max_depth=7.0 min_data_in_leaf=282.0 num_leaves=68.0\n",
      "[LightGBM] [Warning] min_data_in_leaf is set=282, min_child_samples=20 will be ignored. Current value: min_data_in_leaf=282\n",
      "[LightGBM] [Warning] min_data_in_leaf is set=282, min_child_samples=20 will be ignored. Current value: min_data_in_leaf=282\n",
      "[LightGBM] [Warning] min_data_in_leaf is set=282, min_child_samples=20 will be ignored. Current value: min_data_in_leaf=282\n",
      "                                                                                    \n",
      "CatBoost objective call #60 cur_best_loss=0.16948\n",
      "Params: learning_rate=0.021453176978600542 max_depth=9.0 min_data_in_leaf=16.0 num_leaves=55.0\n",
      "[LightGBM] [Warning] min_data_in_leaf is set=16, min_child_samples=20 will be ignored. Current value: min_data_in_leaf=16\n",
      "[LightGBM] [Warning] min_data_in_leaf is set=16, min_child_samples=20 will be ignored. Current value: min_data_in_leaf=16\n",
      "[LightGBM] [Warning] min_data_in_leaf is set=16, min_child_samples=20 will be ignored. Current value: min_data_in_leaf=16\n",
      "                                                                                    \n",
      "CatBoost objective call #61 cur_best_loss=0.16948\n",
      "Params: learning_rate=0.1440552223946938 max_depth=8.0 min_data_in_leaf=57.0 num_leaves=83.0\n",
      "[LightGBM] [Warning] min_data_in_leaf is set=57, min_child_samples=20 will be ignored. Current value: min_data_in_leaf=57\n",
      "[LightGBM] [Warning] min_data_in_leaf is set=57, min_child_samples=20 will be ignored. Current value: min_data_in_leaf=57\n",
      "[LightGBM] [Warning] min_data_in_leaf is set=57, min_child_samples=20 will be ignored. Current value: min_data_in_leaf=57\n",
      "                                                                                    \n",
      "CatBoost objective call #62 cur_best_loss=0.16948\n",
      "Params: learning_rate=0.06486891418067381 max_depth=9.0 min_data_in_leaf=96.0 num_leaves=46.0\n",
      "[LightGBM] [Warning] min_data_in_leaf is set=96, min_child_samples=20 will be ignored. Current value: min_data_in_leaf=96\n",
      "[LightGBM] [Warning] min_data_in_leaf is set=96, min_child_samples=20 will be ignored. Current value: min_data_in_leaf=96\n",
      "[LightGBM] [Warning] min_data_in_leaf is set=96, min_child_samples=20 will be ignored. Current value: min_data_in_leaf=96\n",
      "                                                                                    \n",
      "CatBoost objective call #63 cur_best_loss=0.16948\n",
      "Params: learning_rate=0.03576743568139035 max_depth=4.0 min_data_in_leaf=132.0 num_leaves=36.0\n",
      "[LightGBM] [Warning] min_data_in_leaf is set=132, min_child_samples=20 will be ignored. Current value: min_data_in_leaf=132\n",
      "[LightGBM] [Warning] min_data_in_leaf is set=132, min_child_samples=20 will be ignored. Current value: min_data_in_leaf=132\n",
      "[LightGBM] [Warning] min_data_in_leaf is set=132, min_child_samples=20 will be ignored. Current value: min_data_in_leaf=132\n",
      "                                                                                    \n",
      "CatBoost objective call #64 cur_best_loss=0.16948\n",
      "Params: learning_rate=0.02979655712095027 max_depth=7.0 min_data_in_leaf=6.0 num_leaves=59.0\n",
      "[LightGBM] [Warning] min_data_in_leaf is set=6, min_child_samples=20 will be ignored. Current value: min_data_in_leaf=6\n",
      "[LightGBM] [Warning] min_data_in_leaf is set=6, min_child_samples=20 will be ignored. Current value: min_data_in_leaf=6\n",
      "[LightGBM] [Warning] min_data_in_leaf is set=6, min_child_samples=20 will be ignored. Current value: min_data_in_leaf=6\n",
      "                                                                                    \n",
      "CatBoost objective call #65 cur_best_loss=0.16948\n",
      "Params: learning_rate=0.1693257203712529 max_depth=6.0 min_data_in_leaf=2.0 num_leaves=51.0\n",
      "[LightGBM] [Warning] min_data_in_leaf is set=2, min_child_samples=20 will be ignored. Current value: min_data_in_leaf=2\n",
      "[LightGBM] [Warning] min_data_in_leaf is set=2, min_child_samples=20 will be ignored. Current value: min_data_in_leaf=2\n",
      "[LightGBM] [Warning] min_data_in_leaf is set=2, min_child_samples=20 will be ignored. Current value: min_data_in_leaf=2\n",
      "                                                                                    \n",
      "CatBoost objective call #66 cur_best_loss=0.16948\n",
      "Params: learning_rate=0.19392976749707222 max_depth=9.0 min_data_in_leaf=198.0 num_leaves=55.0\n",
      "[LightGBM] [Warning] min_data_in_leaf is set=198, min_child_samples=20 will be ignored. Current value: min_data_in_leaf=198\n",
      "[LightGBM] [Warning] min_data_in_leaf is set=198, min_child_samples=20 will be ignored. Current value: min_data_in_leaf=198\n",
      "[LightGBM] [Warning] min_data_in_leaf is set=198, min_child_samples=20 will be ignored. Current value: min_data_in_leaf=198\n",
      "                                                                                    \n",
      "CatBoost objective call #67 cur_best_loss=0.16948\n",
      "Params: learning_rate=0.19139442421137765 max_depth=9.0 min_data_in_leaf=205.0 num_leaves=49.0\n",
      "[LightGBM] [Warning] min_data_in_leaf is set=205, min_child_samples=20 will be ignored. Current value: min_data_in_leaf=205\n",
      "[LightGBM] [Warning] min_data_in_leaf is set=205, min_child_samples=20 will be ignored. Current value: min_data_in_leaf=205\n",
      "[LightGBM] [Warning] min_data_in_leaf is set=205, min_child_samples=20 will be ignored. Current value: min_data_in_leaf=205\n"
     ]
    },
    {
     "name": "stdout",
     "output_type": "stream",
     "text": [
      "                                                                                    \n",
      "CatBoost objective call #68 cur_best_loss=0.16948\n",
      "Params: learning_rate=0.14273938224122035 max_depth=9.0 min_data_in_leaf=396.0 num_leaves=62.0\n",
      "[LightGBM] [Warning] min_data_in_leaf is set=396, min_child_samples=20 will be ignored. Current value: min_data_in_leaf=396\n",
      "[LightGBM] [Warning] min_data_in_leaf is set=396, min_child_samples=20 will be ignored. Current value: min_data_in_leaf=396\n",
      "[LightGBM] [Warning] min_data_in_leaf is set=396, min_child_samples=20 will be ignored. Current value: min_data_in_leaf=396\n",
      "                                                                                    \n",
      "CatBoost objective call #69 cur_best_loss=0.16948\n",
      "Params: learning_rate=0.16098635902812355 max_depth=8.0 min_data_in_leaf=126.0 num_leaves=55.0\n",
      "[LightGBM] [Warning] min_data_in_leaf is set=126, min_child_samples=20 will be ignored. Current value: min_data_in_leaf=126\n",
      "[LightGBM] [Warning] min_data_in_leaf is set=126, min_child_samples=20 will be ignored. Current value: min_data_in_leaf=126\n",
      "[LightGBM] [Warning] min_data_in_leaf is set=126, min_child_samples=20 will be ignored. Current value: min_data_in_leaf=126\n",
      "                                                                                    \n",
      "CatBoost objective call #70 cur_best_loss=0.16948\n",
      "Params: learning_rate=0.12306000596760104 max_depth=9.0 min_data_in_leaf=70.0 num_leaves=43.0\n",
      "[LightGBM] [Warning] min_data_in_leaf is set=70, min_child_samples=20 will be ignored. Current value: min_data_in_leaf=70\n",
      "[LightGBM] [Warning] min_data_in_leaf is set=70, min_child_samples=20 will be ignored. Current value: min_data_in_leaf=70\n",
      "[LightGBM] [Warning] min_data_in_leaf is set=70, min_child_samples=20 will be ignored. Current value: min_data_in_leaf=70\n",
      "                                                                                    \n",
      "CatBoost objective call #71 cur_best_loss=0.16948\n",
      "Params: learning_rate=0.19629122974945223 max_depth=8.0 min_data_in_leaf=191.0 num_leaves=67.0\n",
      "[LightGBM] [Warning] min_data_in_leaf is set=191, min_child_samples=20 will be ignored. Current value: min_data_in_leaf=191\n",
      "[LightGBM] [Warning] min_data_in_leaf is set=191, min_child_samples=20 will be ignored. Current value: min_data_in_leaf=191\n",
      "[LightGBM] [Warning] min_data_in_leaf is set=191, min_child_samples=20 will be ignored. Current value: min_data_in_leaf=191\n",
      "                                                                                    \n",
      "CatBoost objective call #72 cur_best_loss=0.16948\n",
      "Params: learning_rate=0.09258665439278037 max_depth=9.0 min_data_in_leaf=147.0 num_leaves=39.0\n",
      "[LightGBM] [Warning] min_data_in_leaf is set=147, min_child_samples=20 will be ignored. Current value: min_data_in_leaf=147\n",
      "[LightGBM] [Warning] min_data_in_leaf is set=147, min_child_samples=20 will be ignored. Current value: min_data_in_leaf=147\n",
      "[LightGBM] [Warning] min_data_in_leaf is set=147, min_child_samples=20 will be ignored. Current value: min_data_in_leaf=147\n",
      "                                                                                    \n",
      "CatBoost objective call #73 cur_best_loss=0.16948\n",
      "Params: learning_rate=0.10516317543429285 max_depth=8.0 min_data_in_leaf=253.0 num_leaves=71.0\n",
      "[LightGBM] [Warning] min_data_in_leaf is set=253, min_child_samples=20 will be ignored. Current value: min_data_in_leaf=253\n",
      "[LightGBM] [Warning] min_data_in_leaf is set=253, min_child_samples=20 will be ignored. Current value: min_data_in_leaf=253\n",
      "[LightGBM] [Warning] min_data_in_leaf is set=253, min_child_samples=20 will be ignored. Current value: min_data_in_leaf=253\n",
      "                                                                                    \n",
      "CatBoost objective call #74 cur_best_loss=0.16948\n",
      "Params: learning_rate=0.11667331920529676 max_depth=9.0 min_data_in_leaf=48.0 num_leaves=63.0\n",
      "[LightGBM] [Warning] min_data_in_leaf is set=48, min_child_samples=20 will be ignored. Current value: min_data_in_leaf=48\n",
      "[LightGBM] [Warning] min_data_in_leaf is set=48, min_child_samples=20 will be ignored. Current value: min_data_in_leaf=48\n",
      "[LightGBM] [Warning] min_data_in_leaf is set=48, min_child_samples=20 will be ignored. Current value: min_data_in_leaf=48\n",
      "                                                                                    \n",
      "CatBoost objective call #75 cur_best_loss=0.16948\n",
      "Params: learning_rate=0.136031570263321 max_depth=8.0 min_data_in_leaf=324.0 num_leaves=52.0\n",
      "[LightGBM] [Warning] min_data_in_leaf is set=324, min_child_samples=20 will be ignored. Current value: min_data_in_leaf=324\n",
      "[LightGBM] [Warning] min_data_in_leaf is set=324, min_child_samples=20 will be ignored. Current value: min_data_in_leaf=324\n",
      "[LightGBM] [Warning] min_data_in_leaf is set=324, min_child_samples=20 will be ignored. Current value: min_data_in_leaf=324\n",
      "                                                                                    \n",
      "CatBoost objective call #76 cur_best_loss=0.16948\n",
      "Params: learning_rate=0.0826170081474693 max_depth=7.0 min_data_in_leaf=115.0 num_leaves=57.0\n",
      "[LightGBM] [Warning] min_data_in_leaf is set=115, min_child_samples=20 will be ignored. Current value: min_data_in_leaf=115\n",
      "[LightGBM] [Warning] min_data_in_leaf is set=115, min_child_samples=20 will be ignored. Current value: min_data_in_leaf=115\n",
      "[LightGBM] [Warning] min_data_in_leaf is set=115, min_child_samples=20 will be ignored. Current value: min_data_in_leaf=115\n",
      "                                                                                    \n",
      "CatBoost objective call #77 cur_best_loss=0.16948\n",
      "Params: learning_rate=0.19907201495756285 max_depth=9.0 min_data_in_leaf=98.0 num_leaves=47.0\n",
      "[LightGBM] [Warning] min_data_in_leaf is set=98, min_child_samples=20 will be ignored. Current value: min_data_in_leaf=98\n",
      "[LightGBM] [Warning] min_data_in_leaf is set=98, min_child_samples=20 will be ignored. Current value: min_data_in_leaf=98\n",
      "[LightGBM] [Warning] min_data_in_leaf is set=98, min_child_samples=20 will be ignored. Current value: min_data_in_leaf=98\n",
      "                                                                                    \n",
      "CatBoost objective call #78 cur_best_loss=0.16948\n",
      "Params: learning_rate=0.15245392267165725 max_depth=8.0 min_data_in_leaf=173.0 num_leaves=41.0\n",
      "[LightGBM] [Warning] min_data_in_leaf is set=173, min_child_samples=20 will be ignored. Current value: min_data_in_leaf=173\n",
      "[LightGBM] [Warning] min_data_in_leaf is set=173, min_child_samples=20 will be ignored. Current value: min_data_in_leaf=173\n",
      "[LightGBM] [Warning] min_data_in_leaf is set=173, min_child_samples=20 will be ignored. Current value: min_data_in_leaf=173\n",
      "                                                                                    \n",
      "CatBoost objective call #79 cur_best_loss=0.16948\n",
      "Params: learning_rate=0.18459850807709013 max_depth=9.0 min_data_in_leaf=18.0 num_leaves=49.0\n",
      "[LightGBM] [Warning] min_data_in_leaf is set=18, min_child_samples=20 will be ignored. Current value: min_data_in_leaf=18\n",
      "[LightGBM] [Warning] min_data_in_leaf is set=18, min_child_samples=20 will be ignored. Current value: min_data_in_leaf=18\n",
      "[LightGBM] [Warning] min_data_in_leaf is set=18, min_child_samples=20 will be ignored. Current value: min_data_in_leaf=18\n",
      "                                                                                    \n",
      "CatBoost objective call #80 cur_best_loss=0.16948\n",
      "Params: learning_rate=0.17453949604240027 max_depth=8.0 min_data_in_leaf=36.0 num_leaves=61.0\n",
      "[LightGBM] [Warning] min_data_in_leaf is set=36, min_child_samples=20 will be ignored. Current value: min_data_in_leaf=36\n",
      "[LightGBM] [Warning] min_data_in_leaf is set=36, min_child_samples=20 will be ignored. Current value: min_data_in_leaf=36\n",
      "[LightGBM] [Warning] min_data_in_leaf is set=36, min_child_samples=20 will be ignored. Current value: min_data_in_leaf=36\n",
      "                                                                                    \n",
      "CatBoost objective call #81 cur_best_loss=0.16948\n",
      "Params: learning_rate=0.07194218422588138 max_depth=7.0 min_data_in_leaf=66.0 num_leaves=56.0\n",
      "[LightGBM] [Warning] min_data_in_leaf is set=66, min_child_samples=20 will be ignored. Current value: min_data_in_leaf=66\n"
     ]
    },
    {
     "name": "stdout",
     "output_type": "stream",
     "text": [
      "[LightGBM] [Warning] min_data_in_leaf is set=66, min_child_samples=20 will be ignored. Current value: min_data_in_leaf=66\n",
      "[LightGBM] [Warning] min_data_in_leaf is set=66, min_child_samples=20 will be ignored. Current value: min_data_in_leaf=66\n",
      "                                                                                    \n",
      "CatBoost objective call #82 cur_best_loss=0.16948\n",
      "Params: learning_rate=0.16640247581042178 max_depth=9.0 min_data_in_leaf=25.0 num_leaves=37.0\n",
      "[LightGBM] [Warning] min_data_in_leaf is set=25, min_child_samples=20 will be ignored. Current value: min_data_in_leaf=25\n",
      "[LightGBM] [Warning] min_data_in_leaf is set=25, min_child_samples=20 will be ignored. Current value: min_data_in_leaf=25\n",
      "[LightGBM] [Warning] min_data_in_leaf is set=25, min_child_samples=20 will be ignored. Current value: min_data_in_leaf=25\n",
      "                                                                                    \n",
      "CatBoost objective call #83 cur_best_loss=0.16948\n",
      "Params: learning_rate=0.09146816248880134 max_depth=8.0 min_data_in_leaf=53.0 num_leaves=76.0\n",
      "[LightGBM] [Warning] min_data_in_leaf is set=53, min_child_samples=20 will be ignored. Current value: min_data_in_leaf=53\n",
      "[LightGBM] [Warning] min_data_in_leaf is set=53, min_child_samples=20 will be ignored. Current value: min_data_in_leaf=53\n",
      "[LightGBM] [Warning] min_data_in_leaf is set=53, min_child_samples=20 will be ignored. Current value: min_data_in_leaf=53\n",
      "                                                                                    \n",
      "CatBoost objective call #84 cur_best_loss=0.16948\n",
      "Params: learning_rate=0.10623187475638614 max_depth=3.0 min_data_in_leaf=225.0 num_leaves=34.0\n",
      "[LightGBM] [Warning] min_data_in_leaf is set=225, min_child_samples=20 will be ignored. Current value: min_data_in_leaf=225\n",
      "[LightGBM] [Warning] min_data_in_leaf is set=225, min_child_samples=20 will be ignored. Current value: min_data_in_leaf=225\n",
      "[LightGBM] [Warning] min_data_in_leaf is set=225, min_child_samples=20 will be ignored. Current value: min_data_in_leaf=225\n",
      "                                                                                    \n",
      "CatBoost objective call #85 cur_best_loss=0.16948\n",
      "Params: learning_rate=0.1409341772777976 max_depth=9.0 min_data_in_leaf=81.0 num_leaves=59.0\n",
      "[LightGBM] [Warning] min_data_in_leaf is set=81, min_child_samples=20 will be ignored. Current value: min_data_in_leaf=81\n",
      "[LightGBM] [Warning] min_data_in_leaf is set=81, min_child_samples=20 will be ignored. Current value: min_data_in_leaf=81\n",
      "[LightGBM] [Warning] min_data_in_leaf is set=81, min_child_samples=20 will be ignored. Current value: min_data_in_leaf=81\n",
      "                                                                                    \n",
      "CatBoost objective call #86 cur_best_loss=0.16948\n",
      "Params: learning_rate=0.12676037501419313 max_depth=7.0 min_data_in_leaf=330.0 num_leaves=86.0\n",
      "[LightGBM] [Warning] min_data_in_leaf is set=330, min_child_samples=20 will be ignored. Current value: min_data_in_leaf=330\n",
      "[LightGBM] [Warning] min_data_in_leaf is set=330, min_child_samples=20 will be ignored. Current value: min_data_in_leaf=330\n",
      "[LightGBM] [Warning] min_data_in_leaf is set=330, min_child_samples=20 will be ignored. Current value: min_data_in_leaf=330\n",
      "                                                                                    \n",
      "CatBoost objective call #87 cur_best_loss=0.16948\n",
      "Params: learning_rate=0.06116309678766834 max_depth=2.0 min_data_in_leaf=33.0 num_leaves=99.0\n",
      "[LightGBM] [Warning] min_data_in_leaf is set=33, min_child_samples=20 will be ignored. Current value: min_data_in_leaf=33\n",
      "[LightGBM] [Warning] min_data_in_leaf is set=33, min_child_samples=20 will be ignored. Current value: min_data_in_leaf=33\n",
      "[LightGBM] [Warning] min_data_in_leaf is set=33, min_child_samples=20 will be ignored. Current value: min_data_in_leaf=33\n",
      "                                                                                    \n",
      "CatBoost objective call #88 cur_best_loss=0.16948\n",
      "Params: learning_rate=0.05265418897323433 max_depth=8.0 min_data_in_leaf=42.0 num_leaves=70.0\n",
      "[LightGBM] [Warning] min_data_in_leaf is set=42, min_child_samples=20 will be ignored. Current value: min_data_in_leaf=42\n",
      "[LightGBM] [Warning] min_data_in_leaf is set=42, min_child_samples=20 will be ignored. Current value: min_data_in_leaf=42\n",
      "[LightGBM] [Warning] min_data_in_leaf is set=42, min_child_samples=20 will be ignored. Current value: min_data_in_leaf=42\n",
      "                                                                                    \n",
      "CatBoost objective call #89 cur_best_loss=0.16948\n",
      "Params: learning_rate=0.15362316109809612 max_depth=9.0 min_data_in_leaf=142.0 num_leaves=53.0\n",
      "[LightGBM] [Warning] min_data_in_leaf is set=142, min_child_samples=20 will be ignored. Current value: min_data_in_leaf=142\n",
      "[LightGBM] [Warning] min_data_in_leaf is set=142, min_child_samples=20 will be ignored. Current value: min_data_in_leaf=142\n",
      "[LightGBM] [Warning] min_data_in_leaf is set=142, min_child_samples=20 will be ignored. Current value: min_data_in_leaf=142\n",
      "                                                                                    \n",
      "CatBoost objective call #90 cur_best_loss=0.16948\n",
      "Params: learning_rate=0.09973327879073181 max_depth=8.0 min_data_in_leaf=164.0 num_leaves=74.0\n",
      "[LightGBM] [Warning] min_data_in_leaf is set=164, min_child_samples=20 will be ignored. Current value: min_data_in_leaf=164\n",
      "[LightGBM] [Warning] min_data_in_leaf is set=164, min_child_samples=20 will be ignored. Current value: min_data_in_leaf=164\n",
      "[LightGBM] [Warning] min_data_in_leaf is set=164, min_child_samples=20 will be ignored. Current value: min_data_in_leaf=164\n",
      "                                                                                    \n",
      "CatBoost objective call #91 cur_best_loss=0.16948\n",
      "Params: learning_rate=0.010434243559826526 max_depth=4.0 min_data_in_leaf=93.0 num_leaves=31.0\n",
      "[LightGBM] [Warning] min_data_in_leaf is set=93, min_child_samples=20 will be ignored. Current value: min_data_in_leaf=93\n",
      "[LightGBM] [Warning] min_data_in_leaf is set=93, min_child_samples=20 will be ignored. Current value: min_data_in_leaf=93\n",
      "[LightGBM] [Warning] min_data_in_leaf is set=93, min_child_samples=20 will be ignored. Current value: min_data_in_leaf=93\n",
      "                                                                                    \n",
      "CatBoost objective call #92 cur_best_loss=0.16948\n",
      "Params: learning_rate=0.07816132245770567 max_depth=6.0 min_data_in_leaf=72.0 num_leaves=45.0\n",
      "[LightGBM] [Warning] min_data_in_leaf is set=72, min_child_samples=20 will be ignored. Current value: min_data_in_leaf=72\n",
      "[LightGBM] [Warning] min_data_in_leaf is set=72, min_child_samples=20 will be ignored. Current value: min_data_in_leaf=72\n",
      "[LightGBM] [Warning] min_data_in_leaf is set=72, min_child_samples=20 will be ignored. Current value: min_data_in_leaf=72\n",
      "                                                                                    \n",
      "CatBoost objective call #93 cur_best_loss=0.16948\n",
      "Params: learning_rate=0.17916127595651463 max_depth=5.0 min_data_in_leaf=366.0 num_leaves=66.0\n",
      "[LightGBM] [Warning] min_data_in_leaf is set=366, min_child_samples=20 will be ignored. Current value: min_data_in_leaf=366\n",
      "[LightGBM] [Warning] min_data_in_leaf is set=366, min_child_samples=20 will be ignored. Current value: min_data_in_leaf=366\n",
      "[LightGBM] [Warning] min_data_in_leaf is set=366, min_child_samples=20 will be ignored. Current value: min_data_in_leaf=366\n",
      "                                                                                    \n",
      "CatBoost objective call #94 cur_best_loss=0.16948\n",
      "Params: learning_rate=0.11270649915355814 max_depth=7.0 min_data_in_leaf=274.0 num_leaves=25.0\n",
      "[LightGBM] [Warning] min_data_in_leaf is set=274, min_child_samples=20 will be ignored. Current value: min_data_in_leaf=274\n",
      "[LightGBM] [Warning] min_data_in_leaf is set=274, min_child_samples=20 will be ignored. Current value: min_data_in_leaf=274\n",
      "[LightGBM] [Warning] min_data_in_leaf is set=274, min_child_samples=20 will be ignored. Current value: min_data_in_leaf=274\n",
      "                                                                                    \n",
      "CatBoost objective call #95 cur_best_loss=0.16948\n"
     ]
    },
    {
     "name": "stdout",
     "output_type": "stream",
     "text": [
      "Params: learning_rate=0.01475925329838579 max_depth=9.0 min_data_in_leaf=113.0 num_leaves=64.0\n",
      "[LightGBM] [Warning] min_data_in_leaf is set=113, min_child_samples=20 will be ignored. Current value: min_data_in_leaf=113\n",
      "[LightGBM] [Warning] min_data_in_leaf is set=113, min_child_samples=20 will be ignored. Current value: min_data_in_leaf=113\n",
      "[LightGBM] [Warning] min_data_in_leaf is set=113, min_child_samples=20 will be ignored. Current value: min_data_in_leaf=113\n",
      "                                                                                    \n",
      "CatBoost objective call #96 cur_best_loss=0.16948\n",
      "Params: learning_rate=0.1310448515877487 max_depth=9.0 min_data_in_leaf=192.0 num_leaves=48.0\n",
      "[LightGBM] [Warning] min_data_in_leaf is set=192, min_child_samples=20 will be ignored. Current value: min_data_in_leaf=192\n",
      "[LightGBM] [Warning] min_data_in_leaf is set=192, min_child_samples=20 will be ignored. Current value: min_data_in_leaf=192\n",
      "[LightGBM] [Warning] min_data_in_leaf is set=192, min_child_samples=20 will be ignored. Current value: min_data_in_leaf=192\n",
      "                                                                                    \n",
      "CatBoost objective call #97 cur_best_loss=0.16948\n",
      "Params: learning_rate=0.02538431513510145 max_depth=8.0 min_data_in_leaf=28.0 num_leaves=50.0\n",
      "[LightGBM] [Warning] min_data_in_leaf is set=28, min_child_samples=20 will be ignored. Current value: min_data_in_leaf=28\n",
      "[LightGBM] [Warning] min_data_in_leaf is set=28, min_child_samples=20 will be ignored. Current value: min_data_in_leaf=28\n",
      "[LightGBM] [Warning] min_data_in_leaf is set=28, min_child_samples=20 will be ignored. Current value: min_data_in_leaf=28\n",
      "                                                                                    \n",
      "CatBoost objective call #98 cur_best_loss=0.16948\n",
      "Params: learning_rate=0.1597978439136297 max_depth=6.0 min_data_in_leaf=61.0 num_leaves=42.0\n",
      "[LightGBM] [Warning] min_data_in_leaf is set=61, min_child_samples=20 will be ignored. Current value: min_data_in_leaf=61\n",
      "[LightGBM] [Warning] min_data_in_leaf is set=61, min_child_samples=20 will be ignored. Current value: min_data_in_leaf=61\n",
      "[LightGBM] [Warning] min_data_in_leaf is set=61, min_child_samples=20 will be ignored. Current value: min_data_in_leaf=61\n",
      "                                                                                    \n",
      "CatBoost objective call #99 cur_best_loss=0.16948\n",
      "Params: learning_rate=0.1868324226010423 max_depth=9.0 min_data_in_leaf=88.0 num_leaves=53.0\n",
      "[LightGBM] [Warning] min_data_in_leaf is set=88, min_child_samples=20 will be ignored. Current value: min_data_in_leaf=88\n",
      "[LightGBM] [Warning] min_data_in_leaf is set=88, min_child_samples=20 will be ignored. Current value: min_data_in_leaf=88\n",
      "[LightGBM] [Warning] min_data_in_leaf is set=88, min_child_samples=20 will be ignored. Current value: min_data_in_leaf=88\n",
      "                                                                                    \n",
      "CatBoost objective call #100 cur_best_loss=0.16948\n",
      "Params: learning_rate=0.07180193958553391 max_depth=7.0 min_data_in_leaf=11.0 num_leaves=60.0\n",
      "[LightGBM] [Warning] min_data_in_leaf is set=11, min_child_samples=20 will be ignored. Current value: min_data_in_leaf=11\n",
      "[LightGBM] [Warning] min_data_in_leaf is set=11, min_child_samples=20 will be ignored. Current value: min_data_in_leaf=11\n",
      "[LightGBM] [Warning] min_data_in_leaf is set=11, min_child_samples=20 will be ignored. Current value: min_data_in_leaf=11\n",
      "100%|██████████| 100/100 [04:37<00:00,  2.78s/trial, best loss: -0.16948440848239146]\n",
      "--------------------------------------------------\n",
      "The best params:\n",
      "{'depth': 9.0, 'learning_rate': 0.19983552739391627, 'min_data_in_leaf': 68.0, 'num_leaves': 54.0}\n",
      "\n",
      "\n",
      "\n"
     ]
    }
   ],
   "source": [
    "# space = {\n",
    "#         'depth': hp.quniform(\"depth\", 4, 9, 1),\n",
    "#         'learning_rate': hp.loguniform('learning_rate', np.log(0.01), np.log(0.5)),\n",
    "#         'l2_leaf_reg': hp.uniform('l2_leaf_reg', 2, 8),\n",
    "#        }\n",
    "\n",
    "space = {\n",
    "    'max_depth': hp.quniform(\"depth\", 2, 9, 1),\n",
    "    'num_leaves': hp.quniform('num_leaves', 25, 100, 1),\n",
    "    'learning_rate': hp.loguniform('learning_rate', np.log(0.01), np.log(0.2)),\n",
    "    'min_data_in_leaf': hp.qloguniform('min_data_in_leaf', 0, 6, 1),\n",
    "}\n",
    "\n",
    "trials = Trials()\n",
    "best = hyperopt.fmin(fn=objective,\n",
    "                     space=space,\n",
    "                     algo=HYPEROPT_ALGO,\n",
    "                     max_evals=N_HYPEROPT_PROBES,\n",
    "                     trials=trials,\n",
    "                     verbose=True)\n",
    "\n",
    "print('-'*50)\n",
    "print('The best params:')\n",
    "print( best )\n",
    "print('\\n\\n')"
   ]
  },
  {
   "cell_type": "code",
   "execution_count": 51,
   "metadata": {},
   "outputs": [
    {
     "name": "stdout",
     "output_type": "stream",
     "text": [
      "[LightGBM] [Warning] min_data_in_leaf is set=68, min_child_samples=20 will be ignored. Current value: min_data_in_leaf=68\n",
      "[LightGBM] [Warning] min_data_in_leaf is set=68, min_child_samples=20 will be ignored. Current value: min_data_in_leaf=68\n",
      "[LightGBM] [Warning] min_data_in_leaf is set=68, min_child_samples=20 will be ignored. Current value: min_data_in_leaf=68\n"
     ]
    },
    {
     "data": {
      "text/plain": [
       "0.16948440848239146"
      ]
     },
     "execution_count": 51,
     "metadata": {},
     "output_type": "execute_result"
    }
   ],
   "source": [
    "model = LGBMClassifier(objective='binary',\n",
    "                       class_weight='balanced',\n",
    "                       max_depth = 9,\n",
    "                       num_leaves = 54,\n",
    "                       learning_rate = 0.19983552739391627,\n",
    "                       min_data_in_leaf = 68,\n",
    "                      )\n",
    "y_preds = stratified_cv(X, y, model)\n",
    "np.mean([fbeta_score(*t, beta=2.) for t in y_preds])"
   ]
  },
  {
   "cell_type": "code",
   "execution_count": 52,
   "metadata": {},
   "outputs": [
    {
     "name": "stdout",
     "output_type": "stream",
     "text": [
      "              precision    recall  f1-score   support\n",
      "\n",
      "           0       0.97      0.99      0.98     14492\n",
      "           1       0.35      0.15      0.21       504\n",
      "\n",
      "    accuracy                           0.96     14996\n",
      "   macro avg       0.66      0.57      0.59     14996\n",
      "weighted avg       0.95      0.96      0.95     14996\n",
      "\n",
      "              precision    recall  f1-score   support\n",
      "\n",
      "           0       0.97      0.99      0.98     14413\n",
      "           1       0.37      0.14      0.20       583\n",
      "\n",
      "    accuracy                           0.96     14996\n",
      "   macro avg       0.67      0.56      0.59     14996\n",
      "weighted avg       0.94      0.96      0.95     14996\n",
      "\n",
      "              precision    recall  f1-score   support\n",
      "\n",
      "           0       0.97      0.99      0.98     14470\n",
      "           1       0.40      0.16      0.23       526\n",
      "\n",
      "    accuracy                           0.96     14996\n",
      "   macro avg       0.69      0.58      0.61     14996\n",
      "weighted avg       0.95      0.96      0.95     14996\n",
      "\n"
     ]
    }
   ],
   "source": [
    "for y_pred in y_preds:\n",
    "    print(classification_report(*y_pred))"
   ]
  },
  {
   "cell_type": "code",
   "execution_count": 53,
   "metadata": {},
   "outputs": [
    {
     "name": "stdout",
     "output_type": "stream",
     "text": [
      "[[14352   140]\n",
      " [  430    74]]\n",
      "[[14279   134]\n",
      " [  503    80]]\n",
      "[[14341   129]\n",
      " [  440    86]]\n"
     ]
    }
   ],
   "source": [
    "for y_pred in y_preds:\n",
    "    print(confusion_matrix(*y_pred))"
   ]
  },
  {
   "cell_type": "markdown",
   "metadata": {},
   "source": [
    "### Let's train on the whole dataset and save"
   ]
  },
  {
   "cell_type": "code",
   "execution_count": 33,
   "metadata": {},
   "outputs": [
    {
     "data": {
      "text/plain": [
       "LGBMClassifier(class_weight='balanced', objective='binary')"
      ]
     },
     "execution_count": 33,
     "metadata": {},
     "output_type": "execute_result"
    }
   ],
   "source": [
    "model = LGBMClassifier(objective='binary', class_weight='balanced')\n",
    "model.fit(X, y, verbose=True)"
   ]
  },
  {
   "cell_type": "code",
   "execution_count": 34,
   "metadata": {},
   "outputs": [
    {
     "data": {
      "text/plain": [
       "<lightgbm.basic.Booster at 0x1c19cb07d0>"
      ]
     },
     "execution_count": 34,
     "metadata": {},
     "output_type": "execute_result"
    }
   ],
   "source": [
    "model.booster_.save_model('lgbm_model.txt')"
   ]
  },
  {
   "cell_type": "code",
   "execution_count": 37,
   "metadata": {},
   "outputs": [],
   "source": [
    "import lightgbm as lgb"
   ]
  },
  {
   "cell_type": "code",
   "execution_count": 38,
   "metadata": {},
   "outputs": [],
   "source": [
    "bst = lgb.Booster(model_file='lgbm_model.txt')"
   ]
  },
  {
   "cell_type": "code",
   "execution_count": 41,
   "metadata": {},
   "outputs": [],
   "source": [
    "pd__ = inference_df.copy()\n",
    "\n",
    "if 'uuid' in pd__.columns:\n",
    "    uuid = pd__.uuid.values\n",
    "    pd__.drop('uuid', 1, inplace=True)\n",
    "else:\n",
    "    uuid = None\n",
    "if 'default' in pd__.columns:\n",
    "    pd__.drop('default', 1, inplace=True)\n",
    "for cat_feature in cat_features:\n",
    "    pd__[cat_feature] = pd__[cat_feature].astype('category')\n",
    "prediction = bst.predict(pd__)"
   ]
  },
  {
   "cell_type": "code",
   "execution_count": 53,
   "metadata": {},
   "outputs": [],
   "source": [
    "preds_df = pd.DataFrame(zip(uuid, prediction), columns=['uuid', 'pd'])"
   ]
  },
  {
   "cell_type": "code",
   "execution_count": 55,
   "metadata": {},
   "outputs": [],
   "source": [
    "preds_df.to_csv('inference_predicted.csv', index=False)"
   ]
  },
  {
   "cell_type": "markdown",
   "metadata": {},
   "source": [
    "## Example of query"
   ]
  },
  {
   "cell_type": "code",
   "execution_count": 58,
   "metadata": {},
   "outputs": [],
   "source": [
    "inference_df.sample(2).reset_index(drop=True).to_json('inference_json.json')"
   ]
  },
  {
   "cell_type": "code",
   "execution_count": 59,
   "metadata": {},
   "outputs": [
    {
     "name": "stdout",
     "output_type": "stream",
     "text": [
      "{\"305c006b-e13f-46e1-8aa4-6225e893784c\":0.19290775666362242,\"acc75772-d211-42dc-9e12-41dfa8c5b386\":0.592554783866847}\r\n"
     ]
    }
   ],
   "source": [
    "! curl -X POST klarnacasestudy.us-east-2.elasticbeanstalk.com/predict -H 'Content-Type: application/json' -d @inference_json.json"
   ]
  },
  {
   "cell_type": "code",
   "execution_count": null,
   "metadata": {},
   "outputs": [],
   "source": []
  },
  {
   "cell_type": "code",
   "execution_count": null,
   "metadata": {},
   "outputs": [],
   "source": []
  }
 ],
 "metadata": {
  "kernelspec": {
   "display_name": "Python 3",
   "language": "python",
   "name": "python3"
  },
  "language_info": {
   "codemirror_mode": {
    "name": "ipython",
    "version": 3
   },
   "file_extension": ".py",
   "mimetype": "text/x-python",
   "name": "python",
   "nbconvert_exporter": "python",
   "pygments_lexer": "ipython3",
   "version": "3.7.4"
  }
 },
 "nbformat": 4,
 "nbformat_minor": 2
}
